{
 "cells": [
  {
   "cell_type": "markdown",
   "metadata": {},
   "source": [
    "# Correr experimentos\n",
    "En este archivo está el código para correr los experimentos y escribir los resultados en archivos CSV.\n",
    "> Los archivos se guardan en la carpeta _resultados_."
   ]
  },
  {
   "cell_type": "code",
   "execution_count": 1,
   "metadata": {},
   "outputs": [],
   "source": [
    "import math, subprocess\n",
    "import pandas as pd\n",
    "import numpy as np\n",
    "from IPython.display import display, clear_output"
   ]
  },
  {
   "cell_type": "markdown",
   "metadata": {},
   "source": [
    "A continuación leemos los datasets en dataframes de Pandas."
   ]
  },
  {
   "cell_type": "code",
   "execution_count": 2,
   "metadata": {},
   "outputs": [],
   "source": [
    "def leer_instancia(path_instancia):\n",
    "    with open(path_instancia, \"r\") as f:\n",
    "        return f.read();\n"
   ]
  },
  {
   "cell_type": "code",
   "execution_count": null,
   "metadata": {},
   "outputs": [],
   "source": [
    "# df_densidad_alta = pd.read_csv(\"instancias/densidad-alta/indice.csv\");\n",
    "# df_densidad_baja = pd.read_csv(\"instancias/densidad-baja/indice.csv\");\n",
    "# df_mejor_caso_bt = pd.read_csv(\"instancias/mejor-caso-bt/indice.csv\");\n",
    "# df_peor_caso_bt = pd.read_csv(\"instancias/peor-caso-bt/indice.csv\");\n",
    "# df_dinamica = pd.read_csv(\"instancias/dinamica/indice.csv\");"
   ]
  },
  {
   "cell_type": "code",
   "execution_count": 3,
   "metadata": {
    "scrolled": true
   },
   "outputs": [
    {
     "data": {
      "text/html": [
       "<div>\n",
       "<style scoped>\n",
       "    .dataframe tbody tr th:only-of-type {\n",
       "        vertical-align: middle;\n",
       "    }\n",
       "\n",
       "    .dataframe tbody tr th {\n",
       "        vertical-align: top;\n",
       "    }\n",
       "\n",
       "    .dataframe thead th {\n",
       "        text-align: right;\n",
       "    }\n",
       "</style>\n",
       "<table border=\"1\" class=\"dataframe\">\n",
       "  <thead>\n",
       "    <tr style=\"text-align: right;\">\n",
       "      <th></th>\n",
       "      <th>dataset</th>\n",
       "      <th>instancia</th>\n",
       "      <th>n</th>\n",
       "      <th>R</th>\n",
       "      <th>archivo</th>\n",
       "    </tr>\n",
       "  </thead>\n",
       "  <tbody>\n",
       "    <tr>\n",
       "      <th>0</th>\n",
       "      <td>mejor-caso-bt-f</td>\n",
       "      <td>BT-MC-F-10</td>\n",
       "      <td>10</td>\n",
       "      <td>1000</td>\n",
       "      <td>instancias/mejor-caso-bt-f/BT-MC-F-10.txt</td>\n",
       "    </tr>\n",
       "    <tr>\n",
       "      <th>1</th>\n",
       "      <td>mejor-caso-bt-f</td>\n",
       "      <td>BT-MC-F-20</td>\n",
       "      <td>20</td>\n",
       "      <td>1000</td>\n",
       "      <td>instancias/mejor-caso-bt-f/BT-MC-F-20.txt</td>\n",
       "    </tr>\n",
       "    <tr>\n",
       "      <th>2</th>\n",
       "      <td>mejor-caso-bt-f</td>\n",
       "      <td>BT-MC-F-30</td>\n",
       "      <td>30</td>\n",
       "      <td>1000</td>\n",
       "      <td>instancias/mejor-caso-bt-f/BT-MC-F-30.txt</td>\n",
       "    </tr>\n",
       "    <tr>\n",
       "      <th>3</th>\n",
       "      <td>mejor-caso-bt-f</td>\n",
       "      <td>BT-MC-F-40</td>\n",
       "      <td>40</td>\n",
       "      <td>1000</td>\n",
       "      <td>instancias/mejor-caso-bt-f/BT-MC-F-40.txt</td>\n",
       "    </tr>\n",
       "    <tr>\n",
       "      <th>4</th>\n",
       "      <td>mejor-caso-bt-f</td>\n",
       "      <td>BT-MC-F-50</td>\n",
       "      <td>50</td>\n",
       "      <td>1000</td>\n",
       "      <td>instancias/mejor-caso-bt-f/BT-MC-F-50.txt</td>\n",
       "    </tr>\n",
       "    <tr>\n",
       "      <th>5</th>\n",
       "      <td>mejor-caso-bt-f</td>\n",
       "      <td>BT-MC-F-60</td>\n",
       "      <td>60</td>\n",
       "      <td>1000</td>\n",
       "      <td>instancias/mejor-caso-bt-f/BT-MC-F-60.txt</td>\n",
       "    </tr>\n",
       "    <tr>\n",
       "      <th>6</th>\n",
       "      <td>mejor-caso-bt-f</td>\n",
       "      <td>BT-MC-F-70</td>\n",
       "      <td>70</td>\n",
       "      <td>1000</td>\n",
       "      <td>instancias/mejor-caso-bt-f/BT-MC-F-70.txt</td>\n",
       "    </tr>\n",
       "    <tr>\n",
       "      <th>7</th>\n",
       "      <td>mejor-caso-bt-f</td>\n",
       "      <td>BT-MC-F-80</td>\n",
       "      <td>80</td>\n",
       "      <td>1000</td>\n",
       "      <td>instancias/mejor-caso-bt-f/BT-MC-F-80.txt</td>\n",
       "    </tr>\n",
       "    <tr>\n",
       "      <th>8</th>\n",
       "      <td>mejor-caso-bt-f</td>\n",
       "      <td>BT-MC-F-90</td>\n",
       "      <td>90</td>\n",
       "      <td>1000</td>\n",
       "      <td>instancias/mejor-caso-bt-f/BT-MC-F-90.txt</td>\n",
       "    </tr>\n",
       "    <tr>\n",
       "      <th>9</th>\n",
       "      <td>mejor-caso-bt-f</td>\n",
       "      <td>BT-MC-F-100</td>\n",
       "      <td>100</td>\n",
       "      <td>1000</td>\n",
       "      <td>instancias/mejor-caso-bt-f/BT-MC-F-100.txt</td>\n",
       "    </tr>\n",
       "    <tr>\n",
       "      <th>10</th>\n",
       "      <td>mejor-caso-bt-f</td>\n",
       "      <td>BT-MC-F-110</td>\n",
       "      <td>110</td>\n",
       "      <td>1000</td>\n",
       "      <td>instancias/mejor-caso-bt-f/BT-MC-F-110.txt</td>\n",
       "    </tr>\n",
       "    <tr>\n",
       "      <th>11</th>\n",
       "      <td>mejor-caso-bt-f</td>\n",
       "      <td>BT-MC-F-120</td>\n",
       "      <td>120</td>\n",
       "      <td>1000</td>\n",
       "      <td>instancias/mejor-caso-bt-f/BT-MC-F-120.txt</td>\n",
       "    </tr>\n",
       "    <tr>\n",
       "      <th>12</th>\n",
       "      <td>mejor-caso-bt-f</td>\n",
       "      <td>BT-MC-F-130</td>\n",
       "      <td>130</td>\n",
       "      <td>1000</td>\n",
       "      <td>instancias/mejor-caso-bt-f/BT-MC-F-130.txt</td>\n",
       "    </tr>\n",
       "    <tr>\n",
       "      <th>13</th>\n",
       "      <td>mejor-caso-bt-f</td>\n",
       "      <td>BT-MC-F-140</td>\n",
       "      <td>140</td>\n",
       "      <td>1000</td>\n",
       "      <td>instancias/mejor-caso-bt-f/BT-MC-F-140.txt</td>\n",
       "    </tr>\n",
       "    <tr>\n",
       "      <th>14</th>\n",
       "      <td>mejor-caso-bt-f</td>\n",
       "      <td>BT-MC-F-150</td>\n",
       "      <td>150</td>\n",
       "      <td>1000</td>\n",
       "      <td>instancias/mejor-caso-bt-f/BT-MC-F-150.txt</td>\n",
       "    </tr>\n",
       "  </tbody>\n",
       "</table>\n",
       "</div>"
      ],
      "text/plain": [
       "            dataset    instancia    n     R  \\\n",
       "0   mejor-caso-bt-f   BT-MC-F-10   10  1000   \n",
       "1   mejor-caso-bt-f   BT-MC-F-20   20  1000   \n",
       "2   mejor-caso-bt-f   BT-MC-F-30   30  1000   \n",
       "3   mejor-caso-bt-f   BT-MC-F-40   40  1000   \n",
       "4   mejor-caso-bt-f   BT-MC-F-50   50  1000   \n",
       "5   mejor-caso-bt-f   BT-MC-F-60   60  1000   \n",
       "6   mejor-caso-bt-f   BT-MC-F-70   70  1000   \n",
       "7   mejor-caso-bt-f   BT-MC-F-80   80  1000   \n",
       "8   mejor-caso-bt-f   BT-MC-F-90   90  1000   \n",
       "9   mejor-caso-bt-f  BT-MC-F-100  100  1000   \n",
       "10  mejor-caso-bt-f  BT-MC-F-110  110  1000   \n",
       "11  mejor-caso-bt-f  BT-MC-F-120  120  1000   \n",
       "12  mejor-caso-bt-f  BT-MC-F-130  130  1000   \n",
       "13  mejor-caso-bt-f  BT-MC-F-140  140  1000   \n",
       "14  mejor-caso-bt-f  BT-MC-F-150  150  1000   \n",
       "\n",
       "                                       archivo  \n",
       "0    instancias/mejor-caso-bt-f/BT-MC-F-10.txt  \n",
       "1    instancias/mejor-caso-bt-f/BT-MC-F-20.txt  \n",
       "2    instancias/mejor-caso-bt-f/BT-MC-F-30.txt  \n",
       "3    instancias/mejor-caso-bt-f/BT-MC-F-40.txt  \n",
       "4    instancias/mejor-caso-bt-f/BT-MC-F-50.txt  \n",
       "5    instancias/mejor-caso-bt-f/BT-MC-F-60.txt  \n",
       "6    instancias/mejor-caso-bt-f/BT-MC-F-70.txt  \n",
       "7    instancias/mejor-caso-bt-f/BT-MC-F-80.txt  \n",
       "8    instancias/mejor-caso-bt-f/BT-MC-F-90.txt  \n",
       "9   instancias/mejor-caso-bt-f/BT-MC-F-100.txt  \n",
       "10  instancias/mejor-caso-bt-f/BT-MC-F-110.txt  \n",
       "11  instancias/mejor-caso-bt-f/BT-MC-F-120.txt  \n",
       "12  instancias/mejor-caso-bt-f/BT-MC-F-130.txt  \n",
       "13  instancias/mejor-caso-bt-f/BT-MC-F-140.txt  \n",
       "14  instancias/mejor-caso-bt-f/BT-MC-F-150.txt  "
      ]
     },
     "execution_count": 3,
     "metadata": {},
     "output_type": "execute_result"
    }
   ],
   "source": [
    "df_mejor_caso_bt_f = pd.read_csv(\"instancias/mejor-caso-bt-f/indice.csv\");\n",
    "df_mejor_caso_bt_f.head(15)"
   ]
  },
  {
   "cell_type": "code",
   "execution_count": 4,
   "metadata": {
    "scrolled": true
   },
   "outputs": [
    {
     "data": {
      "text/html": [
       "<div>\n",
       "<style scoped>\n",
       "    .dataframe tbody tr th:only-of-type {\n",
       "        vertical-align: middle;\n",
       "    }\n",
       "\n",
       "    .dataframe tbody tr th {\n",
       "        vertical-align: top;\n",
       "    }\n",
       "\n",
       "    .dataframe thead th {\n",
       "        text-align: right;\n",
       "    }\n",
       "</style>\n",
       "<table border=\"1\" class=\"dataframe\">\n",
       "  <thead>\n",
       "    <tr style=\"text-align: right;\">\n",
       "      <th></th>\n",
       "      <th>dataset</th>\n",
       "      <th>instancia</th>\n",
       "      <th>n</th>\n",
       "      <th>R</th>\n",
       "      <th>archivo</th>\n",
       "    </tr>\n",
       "  </thead>\n",
       "  <tbody>\n",
       "    <tr>\n",
       "      <th>0</th>\n",
       "      <td>dinamica</td>\n",
       "      <td>DP-1000-1000</td>\n",
       "      <td>1000</td>\n",
       "      <td>1000</td>\n",
       "      <td>instancias/dinamica/DP-1000-1000.txt</td>\n",
       "    </tr>\n",
       "    <tr>\n",
       "      <th>1</th>\n",
       "      <td>dinamica</td>\n",
       "      <td>DP-1000-1500</td>\n",
       "      <td>1000</td>\n",
       "      <td>1500</td>\n",
       "      <td>instancias/dinamica/DP-1000-1500.txt</td>\n",
       "    </tr>\n",
       "    <tr>\n",
       "      <th>2</th>\n",
       "      <td>dinamica</td>\n",
       "      <td>DP-1000-2000</td>\n",
       "      <td>1000</td>\n",
       "      <td>2000</td>\n",
       "      <td>instancias/dinamica/DP-1000-2000.txt</td>\n",
       "    </tr>\n",
       "    <tr>\n",
       "      <th>3</th>\n",
       "      <td>dinamica</td>\n",
       "      <td>DP-1000-2500</td>\n",
       "      <td>1000</td>\n",
       "      <td>2500</td>\n",
       "      <td>instancias/dinamica/DP-1000-2500.txt</td>\n",
       "    </tr>\n",
       "    <tr>\n",
       "      <th>4</th>\n",
       "      <td>dinamica</td>\n",
       "      <td>DP-1000-3000</td>\n",
       "      <td>1000</td>\n",
       "      <td>3000</td>\n",
       "      <td>instancias/dinamica/DP-1000-3000.txt</td>\n",
       "    </tr>\n",
       "    <tr>\n",
       "      <th>5</th>\n",
       "      <td>dinamica</td>\n",
       "      <td>DP-1000-3500</td>\n",
       "      <td>1000</td>\n",
       "      <td>3500</td>\n",
       "      <td>instancias/dinamica/DP-1000-3500.txt</td>\n",
       "    </tr>\n",
       "    <tr>\n",
       "      <th>6</th>\n",
       "      <td>dinamica</td>\n",
       "      <td>DP-1000-4000</td>\n",
       "      <td>1000</td>\n",
       "      <td>4000</td>\n",
       "      <td>instancias/dinamica/DP-1000-4000.txt</td>\n",
       "    </tr>\n",
       "    <tr>\n",
       "      <th>7</th>\n",
       "      <td>dinamica</td>\n",
       "      <td>DP-1000-4500</td>\n",
       "      <td>1000</td>\n",
       "      <td>4500</td>\n",
       "      <td>instancias/dinamica/DP-1000-4500.txt</td>\n",
       "    </tr>\n",
       "    <tr>\n",
       "      <th>8</th>\n",
       "      <td>dinamica</td>\n",
       "      <td>DP-1000-5000</td>\n",
       "      <td>1000</td>\n",
       "      <td>5000</td>\n",
       "      <td>instancias/dinamica/DP-1000-5000.txt</td>\n",
       "    </tr>\n",
       "    <tr>\n",
       "      <th>9</th>\n",
       "      <td>dinamica</td>\n",
       "      <td>DP-1000-5500</td>\n",
       "      <td>1000</td>\n",
       "      <td>5500</td>\n",
       "      <td>instancias/dinamica/DP-1000-5500.txt</td>\n",
       "    </tr>\n",
       "  </tbody>\n",
       "</table>\n",
       "</div>"
      ],
      "text/plain": [
       "    dataset     instancia     n     R                               archivo\n",
       "0  dinamica  DP-1000-1000  1000  1000  instancias/dinamica/DP-1000-1000.txt\n",
       "1  dinamica  DP-1000-1500  1000  1500  instancias/dinamica/DP-1000-1500.txt\n",
       "2  dinamica  DP-1000-2000  1000  2000  instancias/dinamica/DP-1000-2000.txt\n",
       "3  dinamica  DP-1000-2500  1000  2500  instancias/dinamica/DP-1000-2500.txt\n",
       "4  dinamica  DP-1000-3000  1000  3000  instancias/dinamica/DP-1000-3000.txt\n",
       "5  dinamica  DP-1000-3500  1000  3500  instancias/dinamica/DP-1000-3500.txt\n",
       "6  dinamica  DP-1000-4000  1000  4000  instancias/dinamica/DP-1000-4000.txt\n",
       "7  dinamica  DP-1000-4500  1000  4500  instancias/dinamica/DP-1000-4500.txt\n",
       "8  dinamica  DP-1000-5000  1000  5000  instancias/dinamica/DP-1000-5000.txt\n",
       "9  dinamica  DP-1000-5500  1000  5500  instancias/dinamica/DP-1000-5500.txt"
      ]
     },
     "execution_count": 4,
     "metadata": {},
     "output_type": "execute_result"
    }
   ],
   "source": [
    "df_dinamica = pd.read_csv(\"instancias/dinamica/indice.csv\");\n",
    "df_dinamica.head(10)"
   ]
  },
  {
   "cell_type": "markdown",
   "metadata": {},
   "source": [
    "La siguiente función sirve para correr el código sobre una instancia ejecutando un método en particular.\n",
    "- FB: Fuerza bruta\n",
    "- BT: Backtracking con ambas podas.\n",
    "- BT-F: Backtracking solamente con poda por factibilidad.\n",
    "- BT-O: Backtracking solamente con poda por optimalidad.\n",
    "- PD: Programación dinámica."
   ]
  },
  {
   "cell_type": "code",
   "execution_count": 5,
   "metadata": {},
   "outputs": [],
   "source": [
    "def correr_experimento(metodo, archivo_instancia):\n",
    "    # Leer archivo de la instancia.\n",
    "    instancia = leer_instancia(archivo_instancia)\n",
    "    \n",
    "    # Crear proceso para ejecutar el codigo.\n",
    "    process = subprocess.Popen([\"../main\", metodo], stderr=subprocess.PIPE, stdout=subprocess.PIPE, stdin=subprocess.PIPE, universal_newlines = True)\n",
    "\n",
    "    # Poner la instancia en la entrada estandar.\n",
    "    process.stdin.write(instancia)\n",
    "    process.stdin.flush()\n",
    "\n",
    "    # Correr experimento.\n",
    "    exit_code = process.wait()\n",
    "\n",
    "    # Verificar que el proceso no fallo.\n",
    "    if exit_code != 0: raise(F\"Hubo un error en la experimentacion para el algoritmo: {algoritmo} con la instancia {archivo_instancia}.\")\n",
    "    # Leer salida de STDERR con los tiempos de ejecucion de cada metodo.\n",
    "    tiempo_de_ejecucion = float(process.stderr.read());\n",
    "    \n",
    "    process.stdin.close();\n",
    "    process.stdout.close();\n",
    "    process.stderr.close();\n",
    "    \n",
    "    return tiempo_de_ejecucion;"
   ]
  },
  {
   "cell_type": "markdown",
   "metadata": {},
   "source": [
    "## Corremos los experimentos\n",
    "Vamos a guardar una tabla con las ejecuciones y sus respectivos tiempos."
   ]
  },
  {
   "cell_type": "code",
   "execution_count": 6,
   "metadata": {},
   "outputs": [],
   "source": [
    "experimentos = [];"
   ]
  },
  {
   "cell_type": "markdown",
   "metadata": {},
   "source": [
    "## Experimento X\n",
    "Correr BT-F para peor caso de poda de factibilidad."
   ]
  },
  {
   "cell_type": "code",
   "execution_count": 6,
   "metadata": {},
   "outputs": [],
   "source": [
    "for n in range(0, df_mejor_caso_bt_f.shape[0]):\n",
    "    fila_n = df_mejor_caso_bt_f.iloc[n];\n",
    "    experimentos.append([fila_n[\"dataset\"], n, fila_n[\"R\"], \"BT-F\", fila_n[\"archivo\"]]);\n"
   ]
  },
  {
   "cell_type": "markdown",
   "metadata": {},
   "source": [
    "### Experimento 1\n",
    "Correr Fuerza Bruta en las primeras 30 instancias de densidad-alta y densidad-baja."
   ]
  },
  {
   "cell_type": "code",
   "execution_count": 41,
   "metadata": {},
   "outputs": [],
   "source": [
    "for n in range(0, 30):\n",
    "    fila_n = df_densidad_alta.iloc[n];\n",
    "    experimentos.append([fila_n[\"dataset\"], n, fila_n[\"W\"], \"FB\", fila_n[\"archivo\"]]);\n",
    "\n",
    "for n in range(0, 30):\n",
    "    fila_n = df_densidad_baja.iloc[n];\n",
    "    experimentos.append([fila_n[\"dataset\"], n, fila_n[\"W\"], \"FB\", fila_n[\"archivo\"]]);"
   ]
  },
  {
   "cell_type": "markdown",
   "metadata": {},
   "source": [
    "## Experimento 2\n",
    "Correr BT para mejor caso y peor caso."
   ]
  },
  {
   "cell_type": "code",
   "execution_count": 42,
   "metadata": {},
   "outputs": [],
   "source": [
    "for n in range(0, df_mejor_caso_bt.shape[0]):\n",
    "    fila_n = df_mejor_caso_bt.iloc[n];\n",
    "    experimentos.append([fila_n[\"dataset\"], n, fila_n[\"W\"], \"BT\", fila_n[\"archivo\"]]);\n",
    "\n",
    "for n in range(0, df_peor_caso_bt.shape[0]):\n",
    "    fila_n = df_peor_caso_bt.iloc[n];\n",
    "    experimentos.append([fila_n[\"dataset\"], n, fila_n[\"W\"], \"BT\", fila_n[\"archivo\"]]);"
   ]
  },
  {
   "cell_type": "markdown",
   "metadata": {},
   "source": [
    "## Experimento 3\n",
    "Correr BT, BT-F, BT-O para densidad alta y baja."
   ]
  },
  {
   "cell_type": "code",
   "execution_count": 43,
   "metadata": {},
   "outputs": [],
   "source": [
    "for n in range(0, df_densidad_alta.shape[0]):\n",
    "    fila_n = df_densidad_alta.iloc[n];\n",
    "    experimentos.append([fila_n[\"dataset\"], n, fila_n[\"W\"], \"BT\", fila_n[\"archivo\"]]);\n",
    "    experimentos.append([fila_n[\"dataset\"], n, fila_n[\"W\"], \"BT-F\", fila_n[\"archivo\"]]);\n",
    "    experimentos.append([fila_n[\"dataset\"], n, fila_n[\"W\"], \"BT-O\", fila_n[\"archivo\"]]);\n",
    "\n",
    "for n in range(0, 30):\n",
    "    fila_n = df_densidad_baja.iloc[n];\n",
    "    experimentos.append([fila_n[\"dataset\"], n, fila_n[\"W\"], \"BT\", fila_n[\"archivo\"]]);\n",
    "    experimentos.append([fila_n[\"dataset\"], n, fila_n[\"W\"], \"BT-F\", fila_n[\"archivo\"]]);\n",
    "    experimentos.append([fila_n[\"dataset\"], n, fila_n[\"W\"], \"BT-O\", fila_n[\"archivo\"]]);"
   ]
  },
  {
   "cell_type": "markdown",
   "metadata": {},
   "source": [
    "# Experimento J\n",
    "Correr DP para el dataset _dinamica_."
   ]
  },
  {
   "cell_type": "code",
   "execution_count": 8,
   "metadata": {},
   "outputs": [],
   "source": [
    "for i in range(0, df_dinamica.shape[0]):\n",
    "    fila = df_dinamica.iloc[i];\n",
    "    experimentos.append([fila[\"dataset\"], fila[\"n\"], fila[\"R\"], \"PD\", fila[\"archivo\"]]);"
   ]
  },
  {
   "cell_type": "markdown",
   "metadata": {},
   "source": [
    "## Experimento 5\n",
    "Correr DP para el dataset densidad-alta y densidad-baja."
   ]
  },
  {
   "cell_type": "code",
   "execution_count": 45,
   "metadata": {},
   "outputs": [],
   "source": [
    "for i in range(0, df_densidad_alta.shape[0]):\n",
    "    fila = df_densidad_alta.iloc[i];\n",
    "    experimentos.append([fila[\"dataset\"], fila[\"n\"], fila[\"W\"], \"DP\", fila[\"archivo\"]]);\n",
    "\n",
    "for i in range(0, df_densidad_baja.shape[0]):\n",
    "    fila = df_densidad_baja.iloc[i];\n",
    "    experimentos.append([fila[\"dataset\"], fila[\"n\"], fila[\"W\"], \"DP\", fila[\"archivo\"]]);"
   ]
  },
  {
   "cell_type": "markdown",
   "metadata": {},
   "source": [
    "## Ejecutar los experimentos y guardar los resultados en un archivo CSV.\n",
    "Este paso puede tardar unos minutos hasta terminar de ejecutarse."
   ]
  },
  {
   "cell_type": "code",
   "execution_count": null,
   "metadata": {},
   "outputs": [
    {
     "data": {
      "text/plain": [
       "'Experimento: 196/196'"
      ]
     },
     "metadata": {},
     "output_type": "display_data"
    }
   ],
   "source": [
    "columnas = [\"dataset\", \"n\", \"R\", \"metodo\", \"tiempo\"];\n",
    "filas = [];\n",
    "numero = 1\n",
    "T = 5 # Numero de veces que se ejecuta cada experimento (para mayor fidelidad del tiempo).\n",
    "for experimento in experimentos:\n",
    "    # Voy mostrando que experimento se esta ejecutando.\n",
    "    clear_output(wait=True)\n",
    "    display('Experimento: ' + str(numero) + \"/\" + str(len(experimentos)))\n",
    "    numero += 1\n",
    "    \n",
    "    # Ejecutamos el experimento T veces y obtenemos la mediana.\n",
    "    tiempos = []\n",
    "    resultados = []\n",
    "    for i in range(0, T):\n",
    "        t = correr_experimento(experimento[3], experimento[4])\n",
    "        #t = exp[0]\n",
    "        #res = exp[1]\n",
    "        #resultados.append(res)\n",
    "        tiempos.append(t);\n",
    "    tiempo = np.median(tiempos);\n",
    "    print(resultados)\n",
    "    filas.append([experimento[0], experimento[1], experimento[2], experimento[3], tiempo]);\n",
    "df_resultado = pd.DataFrame(filas, columns=columnas);\n",
    "df_resultado.to_csv(\"resultados/resultado.csv\", index=False, header=True);"
   ]
  },
  {
   "cell_type": "code",
   "execution_count": null,
   "metadata": {},
   "outputs": [],
   "source": [
    "df_resultado"
   ]
  }
 ],
 "metadata": {
  "kernelspec": {
   "display_name": "Python 3",
   "language": "python",
   "name": "python3"
  },
  "language_info": {
   "codemirror_mode": {
    "name": "ipython",
    "version": 3
   },
   "file_extension": ".py",
   "mimetype": "text/x-python",
   "name": "python",
   "nbconvert_exporter": "python",
   "pygments_lexer": "ipython3",
   "version": "3.8.5"
  }
 },
 "nbformat": 4,
 "nbformat_minor": 4
}
