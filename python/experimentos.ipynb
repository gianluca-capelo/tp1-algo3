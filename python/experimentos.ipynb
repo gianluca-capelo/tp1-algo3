{
 "cells": [
  {
   "cell_type": "markdown",
   "metadata": {},
   "source": [
    "# Correr experimentos\n",
    "En este archivo está el código para correr los experimentos y escribir los resultados en archivos CSV.\n",
    "> Los archivos se guardan en la carpeta _resultados_."
   ]
  },
  {
   "cell_type": "code",
   "execution_count": 73,
   "metadata": {},
   "outputs": [],
   "source": [
    "import math, subprocess\n",
    "import pandas as pd\n",
    "import numpy as np\n",
    "from IPython.display import display, clear_output"
   ]
  },
  {
   "cell_type": "markdown",
   "metadata": {},
   "source": [
    "A continuación leemos los datasets en dataframes de Pandas."
   ]
  },
  {
   "cell_type": "code",
   "execution_count": 74,
   "metadata": {},
   "outputs": [],
   "source": [
    "def leer_instancia(path_instancia):\n",
    "    with open(path_instancia, \"r\") as f:\n",
    "        return f.read();"
   ]
  },
  {
   "cell_type": "code",
   "execution_count": 17,
   "metadata": {
    "scrolled": true
   },
   "outputs": [],
   "source": [
    "df_mejor_caso_bt_f = pd.read_csv(\"instancias/mejor-caso-bt-f/indice.csv\");\n"
   ]
  },
  {
   "cell_type": "code",
   "execution_count": 18,
   "metadata": {
    "scrolled": true
   },
   "outputs": [],
   "source": [
    "df_dinamica = pd.read_csv(\"instancias/dinamica/indice.csv\");"
   ]
  },
  {
   "cell_type": "code",
   "execution_count": 59,
   "metadata": {},
   "outputs": [],
   "source": [
    "df_bt= pd.read_csv(\"instancias/bt/indice.csv\");"
   ]
  },
  {
   "cell_type": "code",
   "execution_count": 86,
   "metadata": {},
   "outputs": [],
   "source": [
    "df_fbms = pd.read_csv(\"instancias/muchas-soluciones-validas/indice.csv\");\n",
    "df_fbps = pd.read_csv(\"instancias/pocas-soluciones-validas/indice.csv\");"
   ]
  },
  {
   "cell_type": "code",
   "execution_count": 28,
   "metadata": {},
   "outputs": [],
   "source": [
    "df_fb2 = pd.read_csv(\"instancias/fb2/indice.csv\");"
   ]
  },
  {
   "cell_type": "markdown",
   "metadata": {},
   "source": [
    "La siguiente función sirve para correr el código sobre una instancia ejecutando un método en particular.\n",
    "- FB: Fuerza bruta\n",
    "- BT: Backtracking con ambas podas.\n",
    "- BT-F: Backtracking solamente con poda por factibilidad.\n",
    "- BT-O: Backtracking solamente con poda por optimalidad.\n",
    "- PD: Programación dinámica."
   ]
  },
  {
   "cell_type": "code",
   "execution_count": 60,
   "metadata": {},
   "outputs": [],
   "source": [
    "def correr_experimento(metodo, archivo_instancia):\n",
    "    # Leer archivo de la instancia.\n",
    "    instancia = leer_instancia(archivo_instancia)\n",
    "    \n",
    "    # Crear proceso para ejecutar el codigo.\n",
    "    process = subprocess.Popen([\"../main\", metodo], stderr=subprocess.PIPE, stdout=subprocess.PIPE, stdin=subprocess.PIPE, universal_newlines = True)\n",
    "\n",
    "    # Poner la instancia en la entrada estandar.\n",
    "    process.stdin.write(instancia)\n",
    "    process.stdin.flush()\n",
    "\n",
    "    # Correr experimento.\n",
    "    exit_code = process.wait()\n",
    "\n",
    "    # Verificar que el proceso no fallo.\n",
    "    if exit_code != 0: raise(F\"Hubo un error en la experimentacion para el algoritmo: {algoritmo} con la instancia {archivo_instancia}.\")\n",
    "    # Leer salida de STDERR con los tiempos de ejecucion de cada metodo.\n",
    "    tiempo_de_ejecucion = float(process.stderr.read());\n",
    "    \n",
    "    process.stdin.close();\n",
    "    process.stdout.close();\n",
    "    process.stderr.close();\n",
    "    \n",
    "    return tiempo_de_ejecucion;"
   ]
  },
  {
   "cell_type": "markdown",
   "metadata": {},
   "source": [
    "## Corremos los experimentos\n",
    "Vamos a guardar una tabla con las ejecuciones y sus respectivos tiempos."
   ]
  },
  {
   "cell_type": "code",
   "execution_count": 85,
   "metadata": {},
   "outputs": [],
   "source": [
    "experimentos = [];"
   ]
  },
  {
   "cell_type": "markdown",
   "metadata": {},
   "source": [
    "## Experimento Fuerza Bruta : R variable para distintos ns fijos"
   ]
  },
  {
   "cell_type": "code",
   "execution_count": 36,
   "metadata": {},
   "outputs": [],
   "source": [
    "for i in range(0, df_fb2.shape[0]):\n",
    "    fila = df_fb2.iloc[i];\n",
    "    experimentos.append([fila[\"dataset\"], fila[\"n\"], fila[\"R\"], \"FB\", fila[\"archivo\"]]);"
   ]
  },
  {
   "cell_type": "markdown",
   "metadata": {},
   "source": [
    "## Experimento Fuerza Bruta : Pocas/Muchas soluciones"
   ]
  },
  {
   "cell_type": "code",
   "execution_count": 8,
   "metadata": {},
   "outputs": [],
   "source": [
    "for i in range(0, df_fbms.shape[0]):\n",
    "    fila = df_fbms.iloc[i];\n",
    "    n = fila[\"n\"] \n",
    "    if (n <= 25):\n",
    "        experimentos.append([fila[\"dataset\"], fila[\"n\"], fila[\"R\"], \"FB\", fila[\"archivo\"]]);\n",
    "    \n",
    "for i in range(0, df_fbps.shape[0]):\n",
    "    fila = df_fbps.iloc[i];\n",
    "    n = fila[\"n\"] \n",
    "    if (n <= 25):\n",
    "        experimentos.append([fila[\"dataset\"], fila[\"n\"], fila[\"R\"], \"FB\", fila[\"archivo\"]]);"
   ]
  },
  {
   "cell_type": "markdown",
   "metadata": {},
   "source": [
    "## Experimento Back Tracking - Pocas/Muchas soluciones (Comparacion con FB)"
   ]
  },
  {
   "cell_type": "code",
   "execution_count": 9,
   "metadata": {},
   "outputs": [],
   "source": [
    "for i in range(0, df_fbms.shape[0]):\n",
    "    fila = df_fbms.iloc[i];\n",
    "    experimentos.append([fila[\"dataset\"], fila[\"n\"], fila[\"R\"], \"BT\", fila[\"archivo\"]]);\n",
    "    \n",
    "for i in range(0, df_fbps.shape[0]):\n",
    "    fila = df_fbps.iloc[i];\n",
    "    experimentos.append([fila[\"dataset\"], fila[\"n\"], fila[\"R\"], \"BT\", fila[\"archivo\"]]);"
   ]
  },
  {
   "cell_type": "markdown",
   "metadata": {},
   "source": [
    "## Experimento Back Tracking - Todos Rompen\n",
    "Correr BT-F para el caso en que todos los productos rompen el jambotubo."
   ]
  },
  {
   "cell_type": "code",
   "execution_count": 42,
   "metadata": {},
   "outputs": [],
   "source": [
    "for n in range(0, df_mejor_caso_bt_f.shape[0]):\n",
    "    fila_n = df_mejor_caso_bt_f.iloc[n];\n",
    "    experimentos.append([fila_n[\"dataset\"], n, fila_n[\"R\"], \"BT-F\", fila_n[\"archivo\"]]);"
   ]
  },
  {
   "cell_type": "markdown",
   "metadata": {},
   "source": [
    "## Experimento Campana de Back Tracking"
   ]
  },
  {
   "cell_type": "code",
   "execution_count": 42,
   "metadata": {},
   "outputs": [],
   "source": [
    "for i in range(0, df_bt.shape[0]):\n",
    "    fila = df_bt.iloc[i];\n",
    "    experimentos.append([fila[\"dataset\"], fila[\"n\"], fila[\"R\"], \"BT\", fila[\"archivo\"]]);"
   ]
  },
  {
   "cell_type": "markdown",
   "metadata": {},
   "source": [
    "## Experimento Programacion Dinamica\n"
   ]
  },
  {
   "cell_type": "code",
   "execution_count": 55,
   "metadata": {},
   "outputs": [],
   "source": [
    "for i in range(0, df_dinamica.shape[0]):\n",
    "    fila = df_dinamica.iloc[i];\n",
    "    experimentos.append([fila[\"dataset\"], fila[\"n\"], fila[\"R\"], \"PD\", fila[\"archivo\"]]);  "
   ]
  },
  {
   "cell_type": "markdown",
   "metadata": {},
   "source": [
    "## Experimento 1 :BT vs. PD"
   ]
  },
  {
   "cell_type": "code",
   "execution_count": 62,
   "metadata": {},
   "outputs": [],
   "source": [
    "Rs_max = [111,  289,  37,  237,  71,  157,  15,  19,  19,  27,  35,  273,  43,  47,  43,  55,  65,  79,  81,  77,  89,  103,  103,  141,  135,  161,  157,  135,  159,  189]"
   ]
  },
  {
   "cell_type": "code",
   "execution_count": 63,
   "metadata": {},
   "outputs": [],
   "source": [
    "for i in range(0, df_bt.shape[0]):\n",
    "    fila = df_bt.iloc[i];\n",
    "    n = fila[\"n\"] \n",
    "    R = fila[\"R\"]\n",
    "    if (Rs_max[n - 1]  == R):\n",
    "        experimentos.append([fila[\"dataset\"], fila[\"n\"], fila[\"R\"], \"PD\", fila[\"archivo\"]]);"
   ]
  },
  {
   "cell_type": "markdown",
   "metadata": {},
   "source": [
    "## Experimento 2 :BT vs. PD"
   ]
  },
  {
   "cell_type": "code",
   "execution_count": 87,
   "metadata": {},
   "outputs": [],
   "source": [
    "for i in range(0, df_fbps.shape[0]):\n",
    "    fila = df_fbps.iloc[i];\n",
    "    experimentos.append([fila[\"dataset\"], fila[\"n\"], fila[\"R\"], \"PD\", fila[\"archivo\"]]);\n",
    "    experimentos.append([fila[\"dataset\"], fila[\"n\"], fila[\"R\"], \"BT\", fila[\"archivo\"]]);    "
   ]
  },
  {
   "cell_type": "code",
   "execution_count": null,
   "metadata": {},
   "outputs": [],
   "source": [
    "# Experimetno 2bis : Muchas Soluciones"
   ]
  },
  {
   "cell_type": "code",
   "execution_count": 88,
   "metadata": {},
   "outputs": [],
   "source": [
    "for i in range(0, df_fbms.shape[0]):\n",
    "    fila = df_fbms.iloc[i];\n",
    "    experimentos.append([fila[\"dataset\"], fila[\"n\"], fila[\"R\"], \"PD\", fila[\"archivo\"]]);\n",
    "    experimentos.append([fila[\"dataset\"], fila[\"n\"], fila[\"R\"], \"BT\", fila[\"archivo\"]]);   "
   ]
  },
  {
   "cell_type": "markdown",
   "metadata": {},
   "source": [
    "# TEST"
   ]
  },
  {
   "cell_type": "code",
   "execution_count": 30,
   "metadata": {},
   "outputs": [],
   "source": [
    "#########TEST#############################\n",
    "\n",
    "for i in range(0, df_fb2.shape[0]):\n",
    "    fila = df_fb2.iloc[i];\n",
    "    experimentos.append([fila[\"dataset\"], fila[\"n\"], fila[\"R\"], \"T\", fila[\"archivo\"]]);\n",
    "\n",
    "    ###################TEST#####################################\n",
    "for i in range(0, df_fbms.shape[0]):\n",
    "    fila = df_fbms.iloc[i];\n",
    "    experimentos.append([fila[\"dataset\"], fila[\"n\"], fila[\"R\"], \"T\", fila[\"archivo\"]]);\n",
    "    \n",
    "for i in range(0, df_fbps.shape[0]):\n",
    "    fila = df_fbps.iloc[i];\n",
    "    experimentos.append([fila[\"dataset\"], fila[\"n\"], fila[\"R\"], \"T\", fila[\"archivo\"]]);\n",
    "    \n",
    "    #############TEST####################\n",
    "for i in range(0, df_fbms.shape[0]):\n",
    "    fila = df_fbms.iloc[i];\n",
    "    experimentos.append([fila[\"dataset\"], fila[\"n\"], fila[\"R\"], \"T\", fila[\"archivo\"]]);\n",
    "\n",
    "for i in range(0, df_fbps.shape[0]):\n",
    "    fila = df_fbps.iloc[i];\n",
    "    experimentos.append([fila[\"dataset\"], fila[\"n\"], fila[\"R\"], \"T\", fila[\"archivo\"]]);\n",
    "    \n",
    "    #############TEST####################\n",
    "    \n",
    "for n in range(0, df_mejor_caso_bt_f.shape[0]):\n",
    "    fila_n = df_mejor_caso_bt_f.iloc[n];\n",
    "    experimentos.append([fila_n[\"dataset\"], n, fila_n[\"R\"], \"T\", fila_n[\"archivo\"]]);\n",
    "    \n",
    "#################TEST########################    \n",
    "for i in range(0, df_dinamica.shape[0]):\n",
    "    fila = df_dinamica.iloc[i];\n",
    "    experimentos.append([fila[\"dataset\"], fila[\"n\"], fila[\"R\"], \"T\", fila[\"archivo\"]]);  "
   ]
  },
  {
   "cell_type": "markdown",
   "metadata": {},
   "source": [
    "## Ejecutar los experimentos y guardar los resultados en un archivo CSV.\n",
    "Este paso puede tardar unos minutos hasta terminar de ejecutarse."
   ]
  },
  {
   "cell_type": "code",
   "execution_count": 89,
   "metadata": {},
   "outputs": [
    {
     "data": {
      "text/plain": [
       "'Experimento: 156/156'"
      ]
     },
     "metadata": {},
     "output_type": "display_data"
    }
   ],
   "source": [
    "columnas = [\"dataset\", \"n\", \"R\", \"metodo\", \"tiempo\"];\n",
    "filas = [];\n",
    "numero = 1\n",
    "T = 5 # Numero de veces que se ejecuta cada experimento (para mayor fidelidad del tiempo).\n",
    "for experimento in experimentos:\n",
    "    # Voy mostrando que experimento se esta ejecutando.\n",
    "    clear_output(wait=True)\n",
    "    display('Experimento: ' + str(numero) + \"/\" + str(len(experimentos)))\n",
    "    numero += 1\n",
    "    \n",
    "    # Ejecutamos el experimento T veces y obtenemos la mediana.\n",
    "    tiempos = []\n",
    "    resultados = []\n",
    "    for i in range(0, T):\n",
    "        t = correr_experimento(experimento[3], experimento[4])\n",
    "        #t = exp[0]\n",
    "        #res = exp[1]\n",
    "        #resultados.append(res)\n",
    "        tiempos.append(t);\n",
    "    tiempo = np.median(tiempos);\n",
    "    #print(resultados)\n",
    "    filas.append([experimento[0], experimento[1], experimento[2], experimento[3], tiempo]);\n"
   ]
  },
  {
   "cell_type": "code",
   "execution_count": 90,
   "metadata": {},
   "outputs": [
    {
     "data": {
      "text/html": [
       "<div>\n",
       "<style scoped>\n",
       "    .dataframe tbody tr th:only-of-type {\n",
       "        vertical-align: middle;\n",
       "    }\n",
       "\n",
       "    .dataframe tbody tr th {\n",
       "        vertical-align: top;\n",
       "    }\n",
       "\n",
       "    .dataframe thead th {\n",
       "        text-align: right;\n",
       "    }\n",
       "</style>\n",
       "<table border=\"1\" class=\"dataframe\">\n",
       "  <thead>\n",
       "    <tr style=\"text-align: right;\">\n",
       "      <th></th>\n",
       "      <th>dataset</th>\n",
       "      <th>n</th>\n",
       "      <th>R</th>\n",
       "      <th>metodo</th>\n",
       "      <th>tiempo</th>\n",
       "    </tr>\n",
       "  </thead>\n",
       "  <tbody>\n",
       "    <tr>\n",
       "      <th>0</th>\n",
       "      <td>pocas-soluciones-validas</td>\n",
       "      <td>1</td>\n",
       "      <td>1000</td>\n",
       "      <td>PD</td>\n",
       "      <td>0.004822</td>\n",
       "    </tr>\n",
       "    <tr>\n",
       "      <th>1</th>\n",
       "      <td>pocas-soluciones-validas</td>\n",
       "      <td>1</td>\n",
       "      <td>1000</td>\n",
       "      <td>BT</td>\n",
       "      <td>0.000998</td>\n",
       "    </tr>\n",
       "    <tr>\n",
       "      <th>2</th>\n",
       "      <td>pocas-soluciones-validas</td>\n",
       "      <td>2</td>\n",
       "      <td>1000</td>\n",
       "      <td>PD</td>\n",
       "      <td>0.007075</td>\n",
       "    </tr>\n",
       "    <tr>\n",
       "      <th>3</th>\n",
       "      <td>pocas-soluciones-validas</td>\n",
       "      <td>2</td>\n",
       "      <td>1000</td>\n",
       "      <td>BT</td>\n",
       "      <td>0.001033</td>\n",
       "    </tr>\n",
       "    <tr>\n",
       "      <th>4</th>\n",
       "      <td>pocas-soluciones-validas</td>\n",
       "      <td>3</td>\n",
       "      <td>1000</td>\n",
       "      <td>PD</td>\n",
       "      <td>0.008192</td>\n",
       "    </tr>\n",
       "    <tr>\n",
       "      <th>...</th>\n",
       "      <td>...</td>\n",
       "      <td>...</td>\n",
       "      <td>...</td>\n",
       "      <td>...</td>\n",
       "      <td>...</td>\n",
       "    </tr>\n",
       "    <tr>\n",
       "      <th>151</th>\n",
       "      <td>muchas-soluciones-validas</td>\n",
       "      <td>37</td>\n",
       "      <td>1000</td>\n",
       "      <td>BT</td>\n",
       "      <td>91.701400</td>\n",
       "    </tr>\n",
       "    <tr>\n",
       "      <th>152</th>\n",
       "      <td>muchas-soluciones-validas</td>\n",
       "      <td>38</td>\n",
       "      <td>1000</td>\n",
       "      <td>PD</td>\n",
       "      <td>0.269607</td>\n",
       "    </tr>\n",
       "    <tr>\n",
       "      <th>153</th>\n",
       "      <td>muchas-soluciones-validas</td>\n",
       "      <td>38</td>\n",
       "      <td>1000</td>\n",
       "      <td>BT</td>\n",
       "      <td>864.789000</td>\n",
       "    </tr>\n",
       "    <tr>\n",
       "      <th>154</th>\n",
       "      <td>muchas-soluciones-validas</td>\n",
       "      <td>39</td>\n",
       "      <td>1000</td>\n",
       "      <td>PD</td>\n",
       "      <td>0.285440</td>\n",
       "    </tr>\n",
       "    <tr>\n",
       "      <th>155</th>\n",
       "      <td>muchas-soluciones-validas</td>\n",
       "      <td>39</td>\n",
       "      <td>1000</td>\n",
       "      <td>BT</td>\n",
       "      <td>221.689000</td>\n",
       "    </tr>\n",
       "  </tbody>\n",
       "</table>\n",
       "<p>156 rows × 5 columns</p>\n",
       "</div>"
      ],
      "text/plain": [
       "                       dataset   n     R metodo      tiempo\n",
       "0     pocas-soluciones-validas   1  1000     PD    0.004822\n",
       "1     pocas-soluciones-validas   1  1000     BT    0.000998\n",
       "2     pocas-soluciones-validas   2  1000     PD    0.007075\n",
       "3     pocas-soluciones-validas   2  1000     BT    0.001033\n",
       "4     pocas-soluciones-validas   3  1000     PD    0.008192\n",
       "..                         ...  ..   ...    ...         ...\n",
       "151  muchas-soluciones-validas  37  1000     BT   91.701400\n",
       "152  muchas-soluciones-validas  38  1000     PD    0.269607\n",
       "153  muchas-soluciones-validas  38  1000     BT  864.789000\n",
       "154  muchas-soluciones-validas  39  1000     PD    0.285440\n",
       "155  muchas-soluciones-validas  39  1000     BT  221.689000\n",
       "\n",
       "[156 rows x 5 columns]"
      ]
     },
     "execution_count": 90,
     "metadata": {},
     "output_type": "execute_result"
    }
   ],
   "source": [
    "df_resultado = pd.DataFrame(filas, columns=columnas);\n",
    "df_resultado"
   ]
  },
  {
   "cell_type": "code",
   "execution_count": 98,
   "metadata": {},
   "outputs": [
    {
     "data": {
      "text/html": [
       "<div>\n",
       "<style scoped>\n",
       "    .dataframe tbody tr th:only-of-type {\n",
       "        vertical-align: middle;\n",
       "    }\n",
       "\n",
       "    .dataframe tbody tr th {\n",
       "        vertical-align: top;\n",
       "    }\n",
       "\n",
       "    .dataframe thead th {\n",
       "        text-align: right;\n",
       "    }\n",
       "</style>\n",
       "<table border=\"1\" class=\"dataframe\">\n",
       "  <thead>\n",
       "    <tr style=\"text-align: right;\">\n",
       "      <th></th>\n",
       "      <th>dataset</th>\n",
       "      <th>n</th>\n",
       "      <th>R</th>\n",
       "      <th>metodo</th>\n",
       "      <th>tiempo</th>\n",
       "    </tr>\n",
       "  </thead>\n",
       "  <tbody>\n",
       "    <tr>\n",
       "      <th>0</th>\n",
       "      <td>fb2</td>\n",
       "      <td>5</td>\n",
       "      <td>1</td>\n",
       "      <td>FB</td>\n",
       "      <td>0.002025</td>\n",
       "    </tr>\n",
       "    <tr>\n",
       "      <th>1</th>\n",
       "      <td>fb2</td>\n",
       "      <td>5</td>\n",
       "      <td>6</td>\n",
       "      <td>FB</td>\n",
       "      <td>0.001162</td>\n",
       "    </tr>\n",
       "    <tr>\n",
       "      <th>2</th>\n",
       "      <td>fb2</td>\n",
       "      <td>5</td>\n",
       "      <td>11</td>\n",
       "      <td>FB</td>\n",
       "      <td>0.001282</td>\n",
       "    </tr>\n",
       "    <tr>\n",
       "      <th>3</th>\n",
       "      <td>fb2</td>\n",
       "      <td>5</td>\n",
       "      <td>16</td>\n",
       "      <td>FB</td>\n",
       "      <td>0.001511</td>\n",
       "    </tr>\n",
       "    <tr>\n",
       "      <th>4</th>\n",
       "      <td>fb2</td>\n",
       "      <td>5</td>\n",
       "      <td>21</td>\n",
       "      <td>FB</td>\n",
       "      <td>0.001092</td>\n",
       "    </tr>\n",
       "    <tr>\n",
       "      <th>...</th>\n",
       "      <td>...</td>\n",
       "      <td>...</td>\n",
       "      <td>...</td>\n",
       "      <td>...</td>\n",
       "      <td>...</td>\n",
       "    </tr>\n",
       "    <tr>\n",
       "      <th>6265</th>\n",
       "      <td>muchas-soluciones-validas</td>\n",
       "      <td>22</td>\n",
       "      <td>1000</td>\n",
       "      <td>BT</td>\n",
       "      <td>0.738722</td>\n",
       "    </tr>\n",
       "    <tr>\n",
       "      <th>6266</th>\n",
       "      <td>muchas-soluciones-validas</td>\n",
       "      <td>23</td>\n",
       "      <td>1000</td>\n",
       "      <td>PD</td>\n",
       "      <td>0.129378</td>\n",
       "    </tr>\n",
       "    <tr>\n",
       "      <th>6267</th>\n",
       "      <td>muchas-soluciones-validas</td>\n",
       "      <td>23</td>\n",
       "      <td>1000</td>\n",
       "      <td>BT</td>\n",
       "      <td>0.513036</td>\n",
       "    </tr>\n",
       "    <tr>\n",
       "      <th>6268</th>\n",
       "      <td>muchas-soluciones-validas</td>\n",
       "      <td>24</td>\n",
       "      <td>1000</td>\n",
       "      <td>PD</td>\n",
       "      <td>0.144261</td>\n",
       "    </tr>\n",
       "    <tr>\n",
       "      <th>6269</th>\n",
       "      <td>muchas-soluciones-validas</td>\n",
       "      <td>24</td>\n",
       "      <td>1000</td>\n",
       "      <td>BT</td>\n",
       "      <td>1.329690</td>\n",
       "    </tr>\n",
       "  </tbody>\n",
       "</table>\n",
       "<p>6270 rows × 5 columns</p>\n",
       "</div>"
      ],
      "text/plain": [
       "                        dataset   n     R metodo    tiempo\n",
       "0                           fb2   5     1     FB  0.002025\n",
       "1                           fb2   5     6     FB  0.001162\n",
       "2                           fb2   5    11     FB  0.001282\n",
       "3                           fb2   5    16     FB  0.001511\n",
       "4                           fb2   5    21     FB  0.001092\n",
       "...                         ...  ..   ...    ...       ...\n",
       "6265  muchas-soluciones-validas  22  1000     BT  0.738722\n",
       "6266  muchas-soluciones-validas  23  1000     PD  0.129378\n",
       "6267  muchas-soluciones-validas  23  1000     BT  0.513036\n",
       "6268  muchas-soluciones-validas  24  1000     PD  0.144261\n",
       "6269  muchas-soluciones-validas  24  1000     BT  1.329690\n",
       "\n",
       "[6270 rows x 5 columns]"
      ]
     },
     "execution_count": 98,
     "metadata": {},
     "output_type": "execute_result"
    }
   ],
   "source": [
    "df_aguardar = pd.read_csv(\"resultados/resultado.csv\");\n",
    "df_aguardar "
   ]
  },
  {
   "cell_type": "code",
   "execution_count": 99,
   "metadata": {},
   "outputs": [],
   "source": [
    "df_aguardar = df_aguardar[(df_aguardar[\"dataset\"] != \"muchas-soluciones-validas\")&(df_aguardar[\"metodo\"]!= \"BT\") ]"
   ]
  },
  {
   "cell_type": "code",
   "execution_count": 100,
   "metadata": {},
   "outputs": [],
   "source": [
    "df_aguardar = df_aguardar[(df_aguardar[\"dataset\"] != \"muchas-soluciones-validas\")&(df_aguardar[\"metodo\"]!= \"PD\") ]"
   ]
  },
  {
   "cell_type": "code",
   "execution_count": 101,
   "metadata": {},
   "outputs": [],
   "source": [
    "df_aguardar = df_aguardar[(df_aguardar[\"dataset\"] != \"pocas-soluciones-validas\")&(df_aguardar[\"metodo\"]!= \"BT\") ]"
   ]
  },
  {
   "cell_type": "code",
   "execution_count": 102,
   "metadata": {},
   "outputs": [],
   "source": [
    "df_aguardar= df_aguardar[(df_aguardar[\"dataset\"] != \"pocas-soluciones-validas\")&(df_aguardar[\"metodo\"]!= \"PD\") ]"
   ]
  },
  {
   "cell_type": "code",
   "execution_count": 103,
   "metadata": {},
   "outputs": [
    {
     "data": {
      "text/html": [
       "<div>\n",
       "<style scoped>\n",
       "    .dataframe tbody tr th:only-of-type {\n",
       "        vertical-align: middle;\n",
       "    }\n",
       "\n",
       "    .dataframe tbody tr th {\n",
       "        vertical-align: top;\n",
       "    }\n",
       "\n",
       "    .dataframe thead th {\n",
       "        text-align: right;\n",
       "    }\n",
       "</style>\n",
       "<table border=\"1\" class=\"dataframe\">\n",
       "  <thead>\n",
       "    <tr style=\"text-align: right;\">\n",
       "      <th></th>\n",
       "      <th>dataset</th>\n",
       "      <th>n</th>\n",
       "      <th>R</th>\n",
       "      <th>metodo</th>\n",
       "      <th>tiempo</th>\n",
       "    </tr>\n",
       "  </thead>\n",
       "  <tbody>\n",
       "    <tr>\n",
       "      <th>0</th>\n",
       "      <td>fb2</td>\n",
       "      <td>5</td>\n",
       "      <td>1</td>\n",
       "      <td>FB</td>\n",
       "      <td>0.002025</td>\n",
       "    </tr>\n",
       "    <tr>\n",
       "      <th>1</th>\n",
       "      <td>fb2</td>\n",
       "      <td>5</td>\n",
       "      <td>6</td>\n",
       "      <td>FB</td>\n",
       "      <td>0.001162</td>\n",
       "    </tr>\n",
       "    <tr>\n",
       "      <th>2</th>\n",
       "      <td>fb2</td>\n",
       "      <td>5</td>\n",
       "      <td>11</td>\n",
       "      <td>FB</td>\n",
       "      <td>0.001282</td>\n",
       "    </tr>\n",
       "    <tr>\n",
       "      <th>3</th>\n",
       "      <td>fb2</td>\n",
       "      <td>5</td>\n",
       "      <td>16</td>\n",
       "      <td>FB</td>\n",
       "      <td>0.001511</td>\n",
       "    </tr>\n",
       "    <tr>\n",
       "      <th>4</th>\n",
       "      <td>fb2</td>\n",
       "      <td>5</td>\n",
       "      <td>21</td>\n",
       "      <td>FB</td>\n",
       "      <td>0.001092</td>\n",
       "    </tr>\n",
       "    <tr>\n",
       "      <th>...</th>\n",
       "      <td>...</td>\n",
       "      <td>...</td>\n",
       "      <td>...</td>\n",
       "      <td>...</td>\n",
       "      <td>...</td>\n",
       "    </tr>\n",
       "    <tr>\n",
       "      <th>1443</th>\n",
       "      <td>mejor-caso-bt-f</td>\n",
       "      <td>995</td>\n",
       "      <td>1000</td>\n",
       "      <td>BT-F</td>\n",
       "      <td>0.196923</td>\n",
       "    </tr>\n",
       "    <tr>\n",
       "      <th>1444</th>\n",
       "      <td>mejor-caso-bt-f</td>\n",
       "      <td>996</td>\n",
       "      <td>1000</td>\n",
       "      <td>BT-F</td>\n",
       "      <td>0.206829</td>\n",
       "    </tr>\n",
       "    <tr>\n",
       "      <th>1445</th>\n",
       "      <td>mejor-caso-bt-f</td>\n",
       "      <td>997</td>\n",
       "      <td>1000</td>\n",
       "      <td>BT-F</td>\n",
       "      <td>0.203470</td>\n",
       "    </tr>\n",
       "    <tr>\n",
       "      <th>1446</th>\n",
       "      <td>mejor-caso-bt-f</td>\n",
       "      <td>998</td>\n",
       "      <td>1000</td>\n",
       "      <td>BT-F</td>\n",
       "      <td>0.210391</td>\n",
       "    </tr>\n",
       "    <tr>\n",
       "      <th>1447</th>\n",
       "      <td>mejor-caso-bt-f</td>\n",
       "      <td>999</td>\n",
       "      <td>1000</td>\n",
       "      <td>BT-F</td>\n",
       "      <td>0.208275</td>\n",
       "    </tr>\n",
       "  </tbody>\n",
       "</table>\n",
       "<p>1400 rows × 5 columns</p>\n",
       "</div>"
      ],
      "text/plain": [
       "              dataset    n     R metodo    tiempo\n",
       "0                 fb2    5     1     FB  0.002025\n",
       "1                 fb2    5     6     FB  0.001162\n",
       "2                 fb2    5    11     FB  0.001282\n",
       "3                 fb2    5    16     FB  0.001511\n",
       "4                 fb2    5    21     FB  0.001092\n",
       "...               ...  ...   ...    ...       ...\n",
       "1443  mejor-caso-bt-f  995  1000   BT-F  0.196923\n",
       "1444  mejor-caso-bt-f  996  1000   BT-F  0.206829\n",
       "1445  mejor-caso-bt-f  997  1000   BT-F  0.203470\n",
       "1446  mejor-caso-bt-f  998  1000   BT-F  0.210391\n",
       "1447  mejor-caso-bt-f  999  1000   BT-F  0.208275\n",
       "\n",
       "[1400 rows x 5 columns]"
      ]
     },
     "execution_count": 103,
     "metadata": {},
     "output_type": "execute_result"
    }
   ],
   "source": [
    "df_aguardar"
   ]
  },
  {
   "cell_type": "code",
   "execution_count": 104,
   "metadata": {
    "scrolled": true
   },
   "outputs": [
    {
     "data": {
      "text/html": [
       "<div>\n",
       "<style scoped>\n",
       "    .dataframe tbody tr th:only-of-type {\n",
       "        vertical-align: middle;\n",
       "    }\n",
       "\n",
       "    .dataframe tbody tr th {\n",
       "        vertical-align: top;\n",
       "    }\n",
       "\n",
       "    .dataframe thead th {\n",
       "        text-align: right;\n",
       "    }\n",
       "</style>\n",
       "<table border=\"1\" class=\"dataframe\">\n",
       "  <thead>\n",
       "    <tr style=\"text-align: right;\">\n",
       "      <th></th>\n",
       "      <th>dataset</th>\n",
       "      <th>n</th>\n",
       "      <th>R</th>\n",
       "      <th>metodo</th>\n",
       "      <th>tiempo</th>\n",
       "    </tr>\n",
       "  </thead>\n",
       "  <tbody>\n",
       "    <tr>\n",
       "      <th>0</th>\n",
       "      <td>fb2</td>\n",
       "      <td>5</td>\n",
       "      <td>1</td>\n",
       "      <td>FB</td>\n",
       "      <td>0.002025</td>\n",
       "    </tr>\n",
       "    <tr>\n",
       "      <th>1</th>\n",
       "      <td>fb2</td>\n",
       "      <td>5</td>\n",
       "      <td>6</td>\n",
       "      <td>FB</td>\n",
       "      <td>0.001162</td>\n",
       "    </tr>\n",
       "    <tr>\n",
       "      <th>2</th>\n",
       "      <td>fb2</td>\n",
       "      <td>5</td>\n",
       "      <td>11</td>\n",
       "      <td>FB</td>\n",
       "      <td>0.001282</td>\n",
       "    </tr>\n",
       "    <tr>\n",
       "      <th>3</th>\n",
       "      <td>fb2</td>\n",
       "      <td>5</td>\n",
       "      <td>16</td>\n",
       "      <td>FB</td>\n",
       "      <td>0.001511</td>\n",
       "    </tr>\n",
       "    <tr>\n",
       "      <th>4</th>\n",
       "      <td>fb2</td>\n",
       "      <td>5</td>\n",
       "      <td>21</td>\n",
       "      <td>FB</td>\n",
       "      <td>0.001092</td>\n",
       "    </tr>\n",
       "    <tr>\n",
       "      <th>...</th>\n",
       "      <td>...</td>\n",
       "      <td>...</td>\n",
       "      <td>...</td>\n",
       "      <td>...</td>\n",
       "      <td>...</td>\n",
       "    </tr>\n",
       "    <tr>\n",
       "      <th>1551</th>\n",
       "      <td>muchas-soluciones-validas</td>\n",
       "      <td>37</td>\n",
       "      <td>1000</td>\n",
       "      <td>BT</td>\n",
       "      <td>91.701400</td>\n",
       "    </tr>\n",
       "    <tr>\n",
       "      <th>1552</th>\n",
       "      <td>muchas-soluciones-validas</td>\n",
       "      <td>38</td>\n",
       "      <td>1000</td>\n",
       "      <td>PD</td>\n",
       "      <td>0.269607</td>\n",
       "    </tr>\n",
       "    <tr>\n",
       "      <th>1553</th>\n",
       "      <td>muchas-soluciones-validas</td>\n",
       "      <td>38</td>\n",
       "      <td>1000</td>\n",
       "      <td>BT</td>\n",
       "      <td>864.789000</td>\n",
       "    </tr>\n",
       "    <tr>\n",
       "      <th>1554</th>\n",
       "      <td>muchas-soluciones-validas</td>\n",
       "      <td>39</td>\n",
       "      <td>1000</td>\n",
       "      <td>PD</td>\n",
       "      <td>0.285440</td>\n",
       "    </tr>\n",
       "    <tr>\n",
       "      <th>1555</th>\n",
       "      <td>muchas-soluciones-validas</td>\n",
       "      <td>39</td>\n",
       "      <td>1000</td>\n",
       "      <td>BT</td>\n",
       "      <td>221.689000</td>\n",
       "    </tr>\n",
       "  </tbody>\n",
       "</table>\n",
       "<p>1556 rows × 5 columns</p>\n",
       "</div>"
      ],
      "text/plain": [
       "                        dataset   n     R metodo      tiempo\n",
       "0                           fb2   5     1     FB    0.002025\n",
       "1                           fb2   5     6     FB    0.001162\n",
       "2                           fb2   5    11     FB    0.001282\n",
       "3                           fb2   5    16     FB    0.001511\n",
       "4                           fb2   5    21     FB    0.001092\n",
       "...                         ...  ..   ...    ...         ...\n",
       "1551  muchas-soluciones-validas  37  1000     BT   91.701400\n",
       "1552  muchas-soluciones-validas  38  1000     PD    0.269607\n",
       "1553  muchas-soluciones-validas  38  1000     BT  864.789000\n",
       "1554  muchas-soluciones-validas  39  1000     PD    0.285440\n",
       "1555  muchas-soluciones-validas  39  1000     BT  221.689000\n",
       "\n",
       "[1556 rows x 5 columns]"
      ]
     },
     "execution_count": 104,
     "metadata": {},
     "output_type": "execute_result"
    }
   ],
   "source": [
    "df_aguardar = df_aguardar.append(df_resultado,ignore_index = True)\n",
    "df_aguardar"
   ]
  },
  {
   "cell_type": "code",
   "execution_count": 105,
   "metadata": {},
   "outputs": [],
   "source": [
    "df_aguardar.to_csv(\"resultados/resultado.csv\", index=False, header=True);"
   ]
  }
 ],
 "metadata": {
  "kernelspec": {
   "display_name": "Python 3",
   "language": "python",
   "name": "python3"
  },
  "language_info": {
   "codemirror_mode": {
    "name": "ipython",
    "version": 3
   },
   "file_extension": ".py",
   "mimetype": "text/x-python",
   "name": "python",
   "nbconvert_exporter": "python",
   "pygments_lexer": "ipython3",
   "version": "3.8.5"
  }
 },
 "nbformat": 4,
 "nbformat_minor": 4
}
