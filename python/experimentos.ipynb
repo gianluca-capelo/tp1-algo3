{
 "cells": [
  {
   "cell_type": "markdown",
   "metadata": {},
   "source": [
    "# Correr experimentos\n",
    "En este archivo está el código para correr los experimentos y escribir los resultados en archivos CSV.\n",
    "> Los archivos se guardan en la carpeta _resultados_."
   ]
  },
  {
   "cell_type": "code",
   "execution_count": 59,
   "metadata": {},
   "outputs": [],
   "source": [
    "import math, subprocess\n",
    "import pandas as pd\n",
    "import numpy as np\n",
    "from IPython.display import display, clear_output"
   ]
  },
  {
   "cell_type": "markdown",
   "metadata": {},
   "source": [
    "A continuación leemos los datasets en dataframes de Pandas."
   ]
  },
  {
   "cell_type": "code",
   "execution_count": 52,
   "metadata": {},
   "outputs": [],
   "source": [
    "def leer_instancia(path_instancia):\n",
    "    with open(path_instancia, \"r\") as f:\n",
    "        return f.read();"
   ]
  },
  {
   "cell_type": "code",
   "execution_count": 3,
   "metadata": {
    "scrolled": true
   },
   "outputs": [],
   "source": [
    "df_mejor_caso_bt_f = pd.read_csv(\"instancias/mejor-caso-bt-f/indice.csv\");\n"
   ]
  },
  {
   "cell_type": "code",
   "execution_count": 36,
   "metadata": {
    "scrolled": true
   },
   "outputs": [],
   "source": [
    "df_dinamica = pd.read_csv(\"instancias/dinamica/indice.csv\");"
   ]
  },
  {
   "cell_type": "code",
   "execution_count": 37,
   "metadata": {},
   "outputs": [],
   "source": [
    "df_bt= pd.read_csv(\"instancias/bt/indice.csv\");"
   ]
  },
  {
   "cell_type": "code",
   "execution_count": 65,
   "metadata": {},
   "outputs": [],
   "source": [
    "df_fbms = pd.read_csv(\"instancias/muchas-soluciones-validas/indice.csv\");\n",
    "df_fbps = pd.read_csv(\"instancias/pocas-soluciones-validas/indice.csv\");"
   ]
  },
  {
   "cell_type": "code",
   "execution_count": 28,
   "metadata": {},
   "outputs": [],
   "source": [
    "df_fb2 = pd.read_csv(\"instancias/fb2/indice.csv\");"
   ]
  },
  {
   "cell_type": "markdown",
   "metadata": {},
   "source": [
    "La siguiente función sirve para correr el código sobre una instancia ejecutando un método en particular.\n",
    "- FB: Fuerza bruta\n",
    "- BT: Backtracking con ambas podas.\n",
    "- BT-F: Backtracking solamente con poda por factibilidad.\n",
    "- BT-O: Backtracking solamente con poda por optimalidad.\n",
    "- PD: Programación dinámica."
   ]
  },
  {
   "cell_type": "code",
   "execution_count": 9,
   "metadata": {},
   "outputs": [],
   "source": [
    "def correr_experimento(metodo, archivo_instancia):\n",
    "    # Leer archivo de la instancia.\n",
    "    instancia = leer_instancia(archivo_instancia)\n",
    "    \n",
    "    # Crear proceso para ejecutar el codigo.\n",
    "    process = subprocess.Popen([\"../main\", metodo], stderr=subprocess.PIPE, stdout=subprocess.PIPE, stdin=subprocess.PIPE, universal_newlines = True)\n",
    "\n",
    "    # Poner la instancia en la entrada estandar.\n",
    "    process.stdin.write(instancia)\n",
    "    process.stdin.flush()\n",
    "\n",
    "    # Correr experimento.\n",
    "    exit_code = process.wait()\n",
    "\n",
    "    # Verificar que el proceso no fallo.\n",
    "    if exit_code != 0: raise(F\"Hubo un error en la experimentacion para el algoritmo: {algoritmo} con la instancia {archivo_instancia}.\")\n",
    "    # Leer salida de STDERR con los tiempos de ejecucion de cada metodo.\n",
    "    tiempo_de_ejecucion = float(process.stderr.read());\n",
    "    \n",
    "    process.stdin.close();\n",
    "    process.stdout.close();\n",
    "    process.stderr.close();\n",
    "    \n",
    "    return tiempo_de_ejecucion;"
   ]
  },
  {
   "cell_type": "markdown",
   "metadata": {},
   "source": [
    "## Corremos los experimentos\n",
    "Vamos a guardar una tabla con las ejecuciones y sus respectivos tiempos."
   ]
  },
  {
   "cell_type": "code",
   "execution_count": 67,
   "metadata": {},
   "outputs": [],
   "source": [
    "experimentos = [];"
   ]
  },
  {
   "cell_type": "markdown",
   "metadata": {},
   "source": [
    "## Experimento Fuerza Bruta : R variable para distintos ns fijos"
   ]
  },
  {
   "cell_type": "code",
   "execution_count": 36,
   "metadata": {},
   "outputs": [],
   "source": [
    "for i in range(0, df_fb2.shape[0]):\n",
    "    fila = df_fb2.iloc[i];\n",
    "    experimentos.append([fila[\"dataset\"], fila[\"n\"], fila[\"R\"], \"FB\", fila[\"archivo\"]]);"
   ]
  },
  {
   "cell_type": "markdown",
   "metadata": {},
   "source": [
    "## Experimento Fuerza Bruta : Pocas/Muchas soluciones"
   ]
  },
  {
   "cell_type": "code",
   "execution_count": 8,
   "metadata": {},
   "outputs": [],
   "source": [
    "for i in range(0, df_fbms.shape[0]):\n",
    "    fila = df_fbms.iloc[i];\n",
    "    n = fila[\"n\"] \n",
    "    if (n <= 25):\n",
    "        experimentos.append([fila[\"dataset\"], fila[\"n\"], fila[\"R\"], \"FB\", fila[\"archivo\"]]);\n",
    "    \n",
    "for i in range(0, df_fbps.shape[0]):\n",
    "    fila = df_fbps.iloc[i];\n",
    "    n = fila[\"n\"] \n",
    "    if (n <= 25):\n",
    "        experimentos.append([fila[\"dataset\"], fila[\"n\"], fila[\"R\"], \"FB\", fila[\"archivo\"]]);"
   ]
  },
  {
   "cell_type": "markdown",
   "metadata": {},
   "source": [
    "## Experimento Back Tracking - Pocas/Muchas soluciones (Comparacion con FB)"
   ]
  },
  {
   "cell_type": "code",
   "execution_count": 56,
   "metadata": {},
   "outputs": [],
   "source": [
    "for i in range(0, df_fbms.shape[0]):\n",
    "    fila = df_fbms.iloc[i];\n",
    "    experimentos.append([fila[\"dataset\"], fila[\"n\"], fila[\"R\"], \"BT\", fila[\"archivo\"]]);\n",
    "    \n",
    "for i in range(0, df_fbps.shape[0]):\n",
    "    fila = df_fbps.iloc[i];\n",
    "    experimentos.append([fila[\"dataset\"], fila[\"n\"], fila[\"R\"], \"BT\", fila[\"archivo\"]]);"
   ]
  },
  {
   "cell_type": "markdown",
   "metadata": {},
   "source": [
    "## Experimento Back Tracking - Todos Rompen\n",
    "Correr BT-F para el caso en que todos los productos rompen el jambotubo."
   ]
  },
  {
   "cell_type": "code",
   "execution_count": 42,
   "metadata": {},
   "outputs": [],
   "source": [
    "for n in range(0, df_mejor_caso_bt_f.shape[0]):\n",
    "    fila_n = df_mejor_caso_bt_f.iloc[n];\n",
    "    experimentos.append([fila_n[\"dataset\"], n, fila_n[\"R\"], \"BT-F\", fila_n[\"archivo\"]]);"
   ]
  },
  {
   "cell_type": "markdown",
   "metadata": {},
   "source": [
    "## Experimento Campana de Back Tracking"
   ]
  },
  {
   "cell_type": "code",
   "execution_count": 42,
   "metadata": {},
   "outputs": [],
   "source": [
    "for i in range(0, df_bt.shape[0]):\n",
    "    fila = df_bt.iloc[i];\n",
    "    experimentos.append([fila[\"dataset\"], fila[\"n\"], fila[\"R\"], \"BT\", fila[\"archivo\"]]);"
   ]
  },
  {
   "cell_type": "markdown",
   "metadata": {},
   "source": [
    "## Experimento Programacion Dinamica\n"
   ]
  },
  {
   "cell_type": "code",
   "execution_count": 13,
   "metadata": {},
   "outputs": [],
   "source": [
    "for i in range(0, df_dinamica.shape[0]):\n",
    "    fila = df_dinamica.iloc[i];\n",
    "    experimentos.append([fila[\"dataset\"], fila[\"n\"], fila[\"R\"], \"PD\", fila[\"archivo\"]]);  "
   ]
  },
  {
   "cell_type": "markdown",
   "metadata": {},
   "source": [
    "## Experimento 1 :BT vs. PD"
   ]
  },
  {
   "cell_type": "code",
   "execution_count": 62,
   "metadata": {},
   "outputs": [],
   "source": [
    "Rs_max = [111,  289,  37,  237,  71,  157,  15,  19,  19,  27,  35,  273,  43,  47,  43,  55,  65,  79,  81,  77,  89,  103,  103,  141,  135,  161,  157,  135,  159,  189]"
   ]
  },
  {
   "cell_type": "code",
   "execution_count": 63,
   "metadata": {},
   "outputs": [],
   "source": [
    "for i in range(0, df_bt.shape[0]):\n",
    "    fila = df_bt.iloc[i];\n",
    "    n = fila[\"n\"] \n",
    "    R = fila[\"R\"]\n",
    "    if (Rs_max[n - 1]  == R):\n",
    "        experimentos.append([fila[\"dataset\"], fila[\"n\"], fila[\"R\"], \"PD\", fila[\"archivo\"]]);"
   ]
  },
  {
   "cell_type": "markdown",
   "metadata": {},
   "source": [
    "## Experimento 2 :BT vs. PD"
   ]
  },
  {
   "cell_type": "code",
   "execution_count": 68,
   "metadata": {},
   "outputs": [],
   "source": [
    "for i in range(0, df_fbps.shape[0]):\n",
    "    fila = df_fbps.iloc[i];\n",
    "    experimentos.append([fila[\"dataset\"], fila[\"n\"], fila[\"R\"], \"PD\", fila[\"archivo\"]]);\n",
    "    experimentos.append([fila[\"dataset\"], fila[\"n\"], fila[\"R\"], \"BT\", fila[\"archivo\"]]);    "
   ]
  },
  {
   "cell_type": "code",
   "execution_count": null,
   "metadata": {},
   "outputs": [],
   "source": [
    "# Experimetno 2bis : Muchas Soluciones"
   ]
  },
  {
   "cell_type": "code",
   "execution_count": 69,
   "metadata": {},
   "outputs": [],
   "source": [
    "for i in range(0, df_fbms.shape[0]):\n",
    "    fila = df_fbms.iloc[i];\n",
    "    experimentos.append([fila[\"dataset\"], fila[\"n\"], fila[\"R\"], \"PD\", fila[\"archivo\"]]);\n",
    "    experimentos.append([fila[\"dataset\"], fila[\"n\"], fila[\"R\"], \"BT\", fila[\"archivo\"]]);   "
   ]
  },
  {
   "cell_type": "markdown",
   "metadata": {},
   "source": [
    "# TEST"
   ]
  },
  {
   "cell_type": "code",
   "execution_count": 30,
   "metadata": {},
   "outputs": [],
   "source": [
    "#########TEST#############################\n",
    "\n",
    "for i in range(0, df_fb2.shape[0]):\n",
    "    fila = df_fb2.iloc[i];\n",
    "    experimentos.append([fila[\"dataset\"], fila[\"n\"], fila[\"R\"], \"T\", fila[\"archivo\"]]);\n",
    "\n",
    "    ###################TEST#####################################\n",
    "for i in range(0, df_fbms.shape[0]):\n",
    "    fila = df_fbms.iloc[i];\n",
    "    experimentos.append([fila[\"dataset\"], fila[\"n\"], fila[\"R\"], \"T\", fila[\"archivo\"]]);\n",
    "    \n",
    "for i in range(0, df_fbps.shape[0]):\n",
    "    fila = df_fbps.iloc[i];\n",
    "    experimentos.append([fila[\"dataset\"], fila[\"n\"], fila[\"R\"], \"T\", fila[\"archivo\"]]);\n",
    "    \n",
    "    #############TEST####################\n",
    "for i in range(0, df_fbms.shape[0]):\n",
    "    fila = df_fbms.iloc[i];\n",
    "    experimentos.append([fila[\"dataset\"], fila[\"n\"], fila[\"R\"], \"T\", fila[\"archivo\"]]);\n",
    "\n",
    "for i in range(0, df_fbps.shape[0]):\n",
    "    fila = df_fbps.iloc[i];\n",
    "    experimentos.append([fila[\"dataset\"], fila[\"n\"], fila[\"R\"], \"T\", fila[\"archivo\"]]);\n",
    "    \n",
    "    #############TEST####################\n",
    "    \n",
    "for n in range(0, df_mejor_caso_bt_f.shape[0]):\n",
    "    fila_n = df_mejor_caso_bt_f.iloc[n];\n",
    "    experimentos.append([fila_n[\"dataset\"], n, fila_n[\"R\"], \"T\", fila_n[\"archivo\"]]);\n",
    "    \n",
    "#################TEST########################    \n",
    "for i in range(0, df_dinamica.shape[0]):\n",
    "    fila = df_dinamica.iloc[i];\n",
    "    experimentos.append([fila[\"dataset\"], fila[\"n\"], fila[\"R\"], \"T\", fila[\"archivo\"]]);  "
   ]
  },
  {
   "cell_type": "markdown",
   "metadata": {},
   "source": [
    "## Ejecutar los experimentos y guardar los resultados en un archivo CSV.\n",
    "Este paso puede tardar unos minutos hasta terminar de ejecutarse."
   ]
  },
  {
   "cell_type": "code",
   "execution_count": 70,
   "metadata": {},
   "outputs": [
    {
     "data": {
      "text/plain": [
       "'Experimento: 876/876'"
      ]
     },
     "metadata": {},
     "output_type": "display_data"
    }
   ],
   "source": [
    "columnas = [\"dataset\", \"n\", \"R\", \"metodo\", \"tiempo\"];\n",
    "filas = [];\n",
    "numero = 1\n",
    "T = 5 # Numero de veces que se ejecuta cada experimento (para mayor fidelidad del tiempo).\n",
    "for experimento in experimentos:\n",
    "    # Voy mostrando que experimento se esta ejecutando.\n",
    "    clear_output(wait=True)\n",
    "    display('Experimento: ' + str(numero) + \"/\" + str(len(experimentos)))\n",
    "    numero += 1\n",
    "    \n",
    "    # Ejecutamos el experimento T veces y obtenemos la mediana.\n",
    "    tiempos = []\n",
    "    resultados = []\n",
    "    for i in range(0, T):\n",
    "        t = correr_experimento(experimento[3], experimento[4])\n",
    "        #t = exp[0]\n",
    "        #res = exp[1]\n",
    "        #resultados.append(res)\n",
    "        tiempos.append(t);\n",
    "    tiempo = np.median(tiempos);\n",
    "    #print(resultados)\n",
    "    filas.append([experimento[0], experimento[1], experimento[2], experimento[3], tiempo]);\n"
   ]
  },
  {
   "cell_type": "code",
   "execution_count": 71,
   "metadata": {},
   "outputs": [],
   "source": [
    "df_resultados = pd.DataFrame(filas, columns=columnas);\n",
    "\n",
    "df_resultados.to_csv(\"resultados/resultado.csv\", index=False, header=True);"
   ]
  },
  {
   "cell_type": "code",
   "execution_count": null,
   "metadata": {},
   "outputs": [],
   "source": []
  },
  {
   "cell_type": "code",
   "execution_count": null,
   "metadata": {},
   "outputs": [],
   "source": []
  },
  {
   "cell_type": "code",
   "execution_count": null,
   "metadata": {},
   "outputs": [],
   "source": []
  },
  {
   "cell_type": "code",
   "execution_count": 33,
   "metadata": {},
   "outputs": [
    {
     "data": {
      "text/html": [
       "<div>\n",
       "<style scoped>\n",
       "    .dataframe tbody tr th:only-of-type {\n",
       "        vertical-align: middle;\n",
       "    }\n",
       "\n",
       "    .dataframe tbody tr th {\n",
       "        vertical-align: top;\n",
       "    }\n",
       "\n",
       "    .dataframe thead th {\n",
       "        text-align: right;\n",
       "    }\n",
       "</style>\n",
       "<table border=\"1\" class=\"dataframe\">\n",
       "  <thead>\n",
       "    <tr style=\"text-align: right;\">\n",
       "      <th></th>\n",
       "      <th>dataset</th>\n",
       "      <th>n</th>\n",
       "      <th>R</th>\n",
       "      <th>metodo</th>\n",
       "      <th>tiempo</th>\n",
       "    </tr>\n",
       "  </thead>\n",
       "  <tbody>\n",
       "    <tr>\n",
       "      <th>0</th>\n",
       "      <td>pocas-soluciones-validas</td>\n",
       "      <td>1</td>\n",
       "      <td>1000</td>\n",
       "      <td>PD</td>\n",
       "      <td>0.007152</td>\n",
       "    </tr>\n",
       "    <tr>\n",
       "      <th>1</th>\n",
       "      <td>pocas-soluciones-validas</td>\n",
       "      <td>1</td>\n",
       "      <td>1000</td>\n",
       "      <td>BT</td>\n",
       "      <td>0.000944</td>\n",
       "    </tr>\n",
       "    <tr>\n",
       "      <th>2</th>\n",
       "      <td>pocas-soluciones-validas</td>\n",
       "      <td>2</td>\n",
       "      <td>1000</td>\n",
       "      <td>PD</td>\n",
       "      <td>0.007104</td>\n",
       "    </tr>\n",
       "    <tr>\n",
       "      <th>3</th>\n",
       "      <td>pocas-soluciones-validas</td>\n",
       "      <td>2</td>\n",
       "      <td>1000</td>\n",
       "      <td>BT</td>\n",
       "      <td>0.001055</td>\n",
       "    </tr>\n",
       "    <tr>\n",
       "      <th>4</th>\n",
       "      <td>pocas-soluciones-validas</td>\n",
       "      <td>3</td>\n",
       "      <td>1000</td>\n",
       "      <td>PD</td>\n",
       "      <td>0.008706</td>\n",
       "    </tr>\n",
       "    <tr>\n",
       "      <th>...</th>\n",
       "      <td>...</td>\n",
       "      <td>...</td>\n",
       "      <td>...</td>\n",
       "      <td>...</td>\n",
       "      <td>...</td>\n",
       "    </tr>\n",
       "    <tr>\n",
       "      <th>151</th>\n",
       "      <td>muchas-soluciones-validas</td>\n",
       "      <td>37</td>\n",
       "      <td>1000</td>\n",
       "      <td>BT</td>\n",
       "      <td>83.522900</td>\n",
       "    </tr>\n",
       "    <tr>\n",
       "      <th>152</th>\n",
       "      <td>muchas-soluciones-validas</td>\n",
       "      <td>38</td>\n",
       "      <td>1000</td>\n",
       "      <td>PD</td>\n",
       "      <td>0.288595</td>\n",
       "    </tr>\n",
       "    <tr>\n",
       "      <th>153</th>\n",
       "      <td>muchas-soluciones-validas</td>\n",
       "      <td>38</td>\n",
       "      <td>1000</td>\n",
       "      <td>BT</td>\n",
       "      <td>899.487000</td>\n",
       "    </tr>\n",
       "    <tr>\n",
       "      <th>154</th>\n",
       "      <td>muchas-soluciones-validas</td>\n",
       "      <td>39</td>\n",
       "      <td>1000</td>\n",
       "      <td>PD</td>\n",
       "      <td>0.265942</td>\n",
       "    </tr>\n",
       "    <tr>\n",
       "      <th>155</th>\n",
       "      <td>muchas-soluciones-validas</td>\n",
       "      <td>39</td>\n",
       "      <td>1000</td>\n",
       "      <td>BT</td>\n",
       "      <td>212.635000</td>\n",
       "    </tr>\n",
       "  </tbody>\n",
       "</table>\n",
       "<p>156 rows × 5 columns</p>\n",
       "</div>"
      ],
      "text/plain": [
       "                       dataset   n     R metodo      tiempo\n",
       "0     pocas-soluciones-validas   1  1000     PD    0.007152\n",
       "1     pocas-soluciones-validas   1  1000     BT    0.000944\n",
       "2     pocas-soluciones-validas   2  1000     PD    0.007104\n",
       "3     pocas-soluciones-validas   2  1000     BT    0.001055\n",
       "4     pocas-soluciones-validas   3  1000     PD    0.008706\n",
       "..                         ...  ..   ...    ...         ...\n",
       "151  muchas-soluciones-validas  37  1000     BT   83.522900\n",
       "152  muchas-soluciones-validas  38  1000     PD    0.288595\n",
       "153  muchas-soluciones-validas  38  1000     BT  899.487000\n",
       "154  muchas-soluciones-validas  39  1000     PD    0.265942\n",
       "155  muchas-soluciones-validas  39  1000     BT  212.635000\n",
       "\n",
       "[156 rows x 5 columns]"
      ]
     },
     "execution_count": 33,
     "metadata": {},
     "output_type": "execute_result"
    }
   ],
   "source": [
    "df_resultado = pd.DataFrame(filas, columns=columnas);\n",
    "df_resultado"
   ]
  },
  {
   "cell_type": "code",
   "execution_count": 24,
   "metadata": {},
   "outputs": [
    {
     "data": {
      "text/html": [
       "<div>\n",
       "<style scoped>\n",
       "    .dataframe tbody tr th:only-of-type {\n",
       "        vertical-align: middle;\n",
       "    }\n",
       "\n",
       "    .dataframe tbody tr th {\n",
       "        vertical-align: top;\n",
       "    }\n",
       "\n",
       "    .dataframe thead th {\n",
       "        text-align: right;\n",
       "    }\n",
       "</style>\n",
       "<table border=\"1\" class=\"dataframe\">\n",
       "  <thead>\n",
       "    <tr style=\"text-align: right;\">\n",
       "      <th></th>\n",
       "      <th>dataset</th>\n",
       "      <th>n</th>\n",
       "      <th>R</th>\n",
       "      <th>metodo</th>\n",
       "      <th>tiempo</th>\n",
       "    </tr>\n",
       "  </thead>\n",
       "  <tbody>\n",
       "    <tr>\n",
       "      <th>0</th>\n",
       "      <td>dinamica</td>\n",
       "      <td>1000</td>\n",
       "      <td>1000</td>\n",
       "      <td>PD</td>\n",
       "      <td>8.33724</td>\n",
       "    </tr>\n",
       "    <tr>\n",
       "      <th>1</th>\n",
       "      <td>dinamica</td>\n",
       "      <td>1000</td>\n",
       "      <td>1500</td>\n",
       "      <td>PD</td>\n",
       "      <td>12.52940</td>\n",
       "    </tr>\n",
       "    <tr>\n",
       "      <th>2</th>\n",
       "      <td>dinamica</td>\n",
       "      <td>1000</td>\n",
       "      <td>2000</td>\n",
       "      <td>PD</td>\n",
       "      <td>16.64690</td>\n",
       "    </tr>\n",
       "    <tr>\n",
       "      <th>3</th>\n",
       "      <td>dinamica</td>\n",
       "      <td>1000</td>\n",
       "      <td>2500</td>\n",
       "      <td>PD</td>\n",
       "      <td>20.63810</td>\n",
       "    </tr>\n",
       "    <tr>\n",
       "      <th>4</th>\n",
       "      <td>dinamica</td>\n",
       "      <td>1000</td>\n",
       "      <td>3000</td>\n",
       "      <td>PD</td>\n",
       "      <td>26.42790</td>\n",
       "    </tr>\n",
       "    <tr>\n",
       "      <th>...</th>\n",
       "      <td>...</td>\n",
       "      <td>...</td>\n",
       "      <td>...</td>\n",
       "      <td>...</td>\n",
       "      <td>...</td>\n",
       "    </tr>\n",
       "    <tr>\n",
       "      <th>191</th>\n",
       "      <td>dinamica</td>\n",
       "      <td>7500</td>\n",
       "      <td>5500</td>\n",
       "      <td>PD</td>\n",
       "      <td>627.19000</td>\n",
       "    </tr>\n",
       "    <tr>\n",
       "      <th>192</th>\n",
       "      <td>dinamica</td>\n",
       "      <td>7500</td>\n",
       "      <td>6000</td>\n",
       "      <td>PD</td>\n",
       "      <td>692.62000</td>\n",
       "    </tr>\n",
       "    <tr>\n",
       "      <th>193</th>\n",
       "      <td>dinamica</td>\n",
       "      <td>7500</td>\n",
       "      <td>6500</td>\n",
       "      <td>PD</td>\n",
       "      <td>757.17800</td>\n",
       "    </tr>\n",
       "    <tr>\n",
       "      <th>194</th>\n",
       "      <td>dinamica</td>\n",
       "      <td>7500</td>\n",
       "      <td>7000</td>\n",
       "      <td>PD</td>\n",
       "      <td>818.76800</td>\n",
       "    </tr>\n",
       "    <tr>\n",
       "      <th>195</th>\n",
       "      <td>dinamica</td>\n",
       "      <td>7500</td>\n",
       "      <td>7500</td>\n",
       "      <td>PD</td>\n",
       "      <td>883.40400</td>\n",
       "    </tr>\n",
       "  </tbody>\n",
       "</table>\n",
       "<p>196 rows × 5 columns</p>\n",
       "</div>"
      ],
      "text/plain": [
       "      dataset     n     R metodo     tiempo\n",
       "0    dinamica  1000  1000     PD    8.33724\n",
       "1    dinamica  1000  1500     PD   12.52940\n",
       "2    dinamica  1000  2000     PD   16.64690\n",
       "3    dinamica  1000  2500     PD   20.63810\n",
       "4    dinamica  1000  3000     PD   26.42790\n",
       "..        ...   ...   ...    ...        ...\n",
       "191  dinamica  7500  5500     PD  627.19000\n",
       "192  dinamica  7500  6000     PD  692.62000\n",
       "193  dinamica  7500  6500     PD  757.17800\n",
       "194  dinamica  7500  7000     PD  818.76800\n",
       "195  dinamica  7500  7500     PD  883.40400\n",
       "\n",
       "[196 rows x 5 columns]"
      ]
     },
     "execution_count": 24,
     "metadata": {},
     "output_type": "execute_result"
    }
   ],
   "source": [
    "df_aguardar = pd.read_csv(\"resultados/resultado.csv\");\n",
    "df_aguardar = df_aguardar"
   ]
  },
  {
   "cell_type": "code",
   "execution_count": 25,
   "metadata": {
    "scrolled": true
   },
   "outputs": [
    {
     "data": {
      "text/html": [
       "<div>\n",
       "<style scoped>\n",
       "    .dataframe tbody tr th:only-of-type {\n",
       "        vertical-align: middle;\n",
       "    }\n",
       "\n",
       "    .dataframe tbody tr th {\n",
       "        vertical-align: top;\n",
       "    }\n",
       "\n",
       "    .dataframe thead th {\n",
       "        text-align: right;\n",
       "    }\n",
       "</style>\n",
       "<table border=\"1\" class=\"dataframe\">\n",
       "  <thead>\n",
       "    <tr style=\"text-align: right;\">\n",
       "      <th></th>\n",
       "      <th>dataset</th>\n",
       "      <th>n</th>\n",
       "      <th>R</th>\n",
       "      <th>metodo</th>\n",
       "      <th>tiempo</th>\n",
       "    </tr>\n",
       "  </thead>\n",
       "  <tbody>\n",
       "    <tr>\n",
       "      <th>0</th>\n",
       "      <td>dinamica</td>\n",
       "      <td>1000</td>\n",
       "      <td>1000</td>\n",
       "      <td>PD</td>\n",
       "      <td>8.337240</td>\n",
       "    </tr>\n",
       "    <tr>\n",
       "      <th>1</th>\n",
       "      <td>dinamica</td>\n",
       "      <td>1000</td>\n",
       "      <td>1500</td>\n",
       "      <td>PD</td>\n",
       "      <td>12.529400</td>\n",
       "    </tr>\n",
       "    <tr>\n",
       "      <th>2</th>\n",
       "      <td>dinamica</td>\n",
       "      <td>1000</td>\n",
       "      <td>2000</td>\n",
       "      <td>PD</td>\n",
       "      <td>16.646900</td>\n",
       "    </tr>\n",
       "    <tr>\n",
       "      <th>3</th>\n",
       "      <td>dinamica</td>\n",
       "      <td>1000</td>\n",
       "      <td>2500</td>\n",
       "      <td>PD</td>\n",
       "      <td>20.638100</td>\n",
       "    </tr>\n",
       "    <tr>\n",
       "      <th>4</th>\n",
       "      <td>dinamica</td>\n",
       "      <td>1000</td>\n",
       "      <td>3000</td>\n",
       "      <td>PD</td>\n",
       "      <td>26.427900</td>\n",
       "    </tr>\n",
       "    <tr>\n",
       "      <th>...</th>\n",
       "      <td>...</td>\n",
       "      <td>...</td>\n",
       "      <td>...</td>\n",
       "      <td>...</td>\n",
       "      <td>...</td>\n",
       "    </tr>\n",
       "    <tr>\n",
       "      <th>347</th>\n",
       "      <td>muchas-soluciones-validas</td>\n",
       "      <td>37</td>\n",
       "      <td>1000</td>\n",
       "      <td>BT</td>\n",
       "      <td>80.493700</td>\n",
       "    </tr>\n",
       "    <tr>\n",
       "      <th>348</th>\n",
       "      <td>muchas-soluciones-validas</td>\n",
       "      <td>38</td>\n",
       "      <td>1000</td>\n",
       "      <td>PD</td>\n",
       "      <td>0.249857</td>\n",
       "    </tr>\n",
       "    <tr>\n",
       "      <th>349</th>\n",
       "      <td>muchas-soluciones-validas</td>\n",
       "      <td>38</td>\n",
       "      <td>1000</td>\n",
       "      <td>BT</td>\n",
       "      <td>819.143000</td>\n",
       "    </tr>\n",
       "    <tr>\n",
       "      <th>350</th>\n",
       "      <td>muchas-soluciones-validas</td>\n",
       "      <td>39</td>\n",
       "      <td>1000</td>\n",
       "      <td>PD</td>\n",
       "      <td>0.267243</td>\n",
       "    </tr>\n",
       "    <tr>\n",
       "      <th>351</th>\n",
       "      <td>muchas-soluciones-validas</td>\n",
       "      <td>39</td>\n",
       "      <td>1000</td>\n",
       "      <td>BT</td>\n",
       "      <td>216.283000</td>\n",
       "    </tr>\n",
       "  </tbody>\n",
       "</table>\n",
       "<p>352 rows × 5 columns</p>\n",
       "</div>"
      ],
      "text/plain": [
       "                       dataset     n     R metodo      tiempo\n",
       "0                     dinamica  1000  1000     PD    8.337240\n",
       "1                     dinamica  1000  1500     PD   12.529400\n",
       "2                     dinamica  1000  2000     PD   16.646900\n",
       "3                     dinamica  1000  2500     PD   20.638100\n",
       "4                     dinamica  1000  3000     PD   26.427900\n",
       "..                         ...   ...   ...    ...         ...\n",
       "347  muchas-soluciones-validas    37  1000     BT   80.493700\n",
       "348  muchas-soluciones-validas    38  1000     PD    0.249857\n",
       "349  muchas-soluciones-validas    38  1000     BT  819.143000\n",
       "350  muchas-soluciones-validas    39  1000     PD    0.267243\n",
       "351  muchas-soluciones-validas    39  1000     BT  216.283000\n",
       "\n",
       "[352 rows x 5 columns]"
      ]
     },
     "execution_count": 25,
     "metadata": {},
     "output_type": "execute_result"
    }
   ],
   "source": [
    "df_aguardar = df_aguardar.append(df_resultado,ignore_index = True)\n",
    "df_aguardar"
   ]
  },
  {
   "cell_type": "code",
   "execution_count": 26,
   "metadata": {},
   "outputs": [],
   "source": [
    "df_aguardar.to_csv(\"resultados/resultado.csv\", index=False, header=True);"
   ]
  }
 ],
 "metadata": {
  "kernelspec": {
   "display_name": "Python 3",
   "language": "python",
   "name": "python3"
  },
  "language_info": {
   "codemirror_mode": {
    "name": "ipython",
    "version": 3
   },
   "file_extension": ".py",
   "mimetype": "text/x-python",
   "name": "python",
   "nbconvert_exporter": "python",
   "pygments_lexer": "ipython3",
   "version": "3.8.5"
  }
 },
 "nbformat": 4,
 "nbformat_minor": 4
}
