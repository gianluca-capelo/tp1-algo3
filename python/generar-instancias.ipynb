{
 "cells": [
  {
   "cell_type": "markdown",
   "metadata": {},
   "source": [
    "# Generador de instancias\n",
    "En este notebook está el código para generar los sets de instancias que se usan para experimentar.\n",
    "- Estas instancias van a ser guardadas en la carpeta __instancias__.\n",
    "- Cada set estará en su propia carpeta y tendrá un archivo _indice.csv_ que contendrá información sobre las instancias."
   ]
  },
  {
   "cell_type": "code",
   "execution_count": 3,
   "metadata": {},
   "outputs": [],
   "source": [
    "import random, math\n",
    "import pandas as pd"
   ]
  },
  {
   "cell_type": "code",
   "execution_count": 10,
   "metadata": {},
   "outputs": [],
   "source": [
    "#Ejemplo de como funciona el save_instance nuevo (definida como funcion en la celda siguiente)\n",
    "#Genera instancias con parametros aleatorios dentro de un rango\n",
    "\n",
    "n = random.randrange(1, 20, 1)\n",
    "R = random.randrange(400, 600, 1)\n",
    "Pesos = [random.randrange(1, 50, 1) for i in range(n)]\n",
    "Resistencias = [random.randrange(1, 100, 1) for i in range(n)]\n",
    "with open(F\"prueba1.txt\", \"w\") as f:\n",
    "\n",
    "        print(len(Pesos), R, file=f)  \n",
    "\n",
    "        for i in range(len(Pesos)-1): \n",
    "            print(Pesos[i], file=f, end=\" \")\n",
    "        print(Pesos[-1], file=f)\n",
    "\n",
    "        for i in range(len(Resistencias)-1): \n",
    "            print(Resistencias[i], file=f, end=\" \")\n",
    "        print(Resistencias[-1], file=f, end=\"\")"
   ]
  },
  {
   "cell_type": "code",
   "execution_count": 1,
   "metadata": {},
   "outputs": [],
   "source": [
    "# Ejemplo de como funciona el save_instance nuevo (definida como funcion en la celda siguiente)\n",
    "\n",
    "n = 5\n",
    "R = 50\n",
    "Pesos = [10,20,30,10,15]\n",
    "Resistencias = [45,8,15,2,30]\n",
    "with open(F\"prueba1.txt\", \"w\") as f:\n",
    "        \n",
    "        print(len(Pesos), R, file=f)\n",
    "\n",
    "        for i in range(len(Pesos)-1): \n",
    "            print(Pesos[i], file=f, end=\" \")\n",
    "        print(Pesos[-1], file=f)\n",
    "        \n",
    "        for i in range(len(Resistencias)-1): \n",
    "            print(Resistencias[i], file=f, end=\" \")\n",
    "        print(Resistencias[-1], file=f)"
   ]
  },
  {
   "cell_type": "code",
   "execution_count": 4,
   "metadata": {},
   "outputs": [],
   "source": [
    "def save_instance(dataset, instance_name, Pesos,Resistencias, R):\n",
    "    with open(F\"instancias/{dataset}/{instance_name}.txt\", \"w\") as f:\n",
    "          \n",
    "        print(len(Pesos), R, file=f)\n",
    "\n",
    "        for i in range(len(Pesos)-1): \n",
    "            print(Pesos[i], file=f, end=\" \")\n",
    "        print(Pesos[-1], file=f)\n",
    "        \n",
    "        for i in range(len(Resistencias)-1): \n",
    "            print(Resistencias[i], file=f, end=\" \")\n",
    "        print(Resistencias[-1], file=f,end=\"\")\n",
    "\n",
    "def save_index(dataset, instances):\n",
    "    with open(F\"instancias/{dataset}/instances.txt\", \"w\") as f:\n",
    "        for instance in instances: \n",
    "            print(instance, file=f)"
   ]
  },
  {
   "cell_type": "markdown",
   "metadata": {},
   "source": [
    "## Dataset 1\n",
    "Instancias de mejor caso de backtracking poda factibilidad, están descriptas en el informe en más detalle.\n",
    "$$ Pesos = \\{p_1,p_2,.., p_n\\}  \\ p_i > R $$\n"
   ]
  },
  {
   "cell_type": "code",
   "execution_count": 5,
   "metadata": {},
   "outputs": [],
   "source": [
    "filas_indice = []\n",
    "for i in range(1, 1001):\n",
    "    n = i * 10\n",
    "    R = 1000\n",
    "    Pesos = [R+1 for i in range(0, n)]\n",
    "    Resistencias = [random.randrange(1, 100, 1) for i in range(0,n)] # arbitrario\n",
    "    save_instance(\"mejor-caso-bt-f\", F\"BT-MC-F-{n}\", Pesos,Resistencias, R)\n",
    "    filas_indice.append([\"mejor-caso-bt-f\", F\"BT-MC-F-{n}\", n, R, F\"instancias/mejor-caso-bt-f/BT-MC-F-{n}.txt\"])\n",
    "pd.DataFrame(filas_indice, columns=[\"dataset\", \"instancia\", \"n\", \"R\", \"archivo\"]).to_csv(\"instancias/mejor-caso-bt-f/indice.csv\", index=False, header=True)"
   ]
  },
  {
   "cell_type": "markdown",
   "metadata": {},
   "source": [
    "## Dataset 2\n",
    "Instancias de peor caso de backtracking, están descriptas en el informe en más detalle.\n",
    "```\n",
    "S = {1, ..., 1, 1} con W = n\n",
    "```"
   ]
  },
  {
   "cell_type": "code",
   "execution_count": 11,
   "metadata": {},
   "outputs": [],
   "source": [
    "filas_indice = []\n",
    "for n in range(1, 31):\n",
    "    W = n\n",
    "    S = [1 for i in range(0, n)]\n",
    "    save_instance(\"peor-caso-bt\", F\"BT-PC-{n}\", S, W)\n",
    "    filas_indice.append([\"peor-caso-bt\", F\"BT-PC-{n}\", n, W, F\"instancias/peor-caso-bt/BT-PC-{n}.txt\"])\n",
    "pd.DataFrame(filas_indice, columns=[\"dataset\", \"instancia\", \"n\", \"W\", \"archivo\"]).to_csv(\"instancias/peor-caso-bt/indice.csv\", index=False, header=True)"
   ]
  },
  {
   "cell_type": "markdown",
   "metadata": {},
   "source": [
    "## Dataset 3\n",
    "Instancias con densidad alta:\n",
    "```\n",
    "S = { 1, ..., n } con W = n/2\n",
    "```"
   ]
  },
  {
   "cell_type": "code",
   "execution_count": 12,
   "metadata": {},
   "outputs": [],
   "source": [
    "filas_indice = []\n",
    "for n in range(1, 201):\n",
    "    W = math.floor(n/2)\n",
    "    S = [0 for i in range(0, n)]\n",
    "    for i in range(0, n): S[i] = i+1\n",
    "    random.shuffle(S)\n",
    "    save_instance(\"densidad-alta\", F\"ALTA-{n}\", S, W)\n",
    "    filas_indice.append([\"densidad-alta\", F\"ALTA-{n}\", n, W, F\"instancias/densidad-alta/ALTA-{n}.txt\"])\n",
    "pd.DataFrame(filas_indice, columns=[\"dataset\", \"instancia\", \"n\", \"W\", \"archivo\"]).to_csv(\"instancias/densidad-alta/indice.csv\", index=False, header=True)"
   ]
  },
  {
   "cell_type": "markdown",
   "metadata": {},
   "source": [
    "## Dataset 4\n",
    "Instancias con densidad baja:\n",
    "```\n",
    "S = { 1, ..., n } con W = n/2  \n",
    "```"
   ]
  },
  {
   "cell_type": "code",
   "execution_count": 13,
   "metadata": {},
   "outputs": [],
   "source": [
    "filas_indice = []\n",
    "for n in range(1, 201):\n",
    "    W = max(1, math.floor(n * (n-1) / 4))\n",
    "    S = [0 for i in range(0, n)]\n",
    "    for i in range(0, n): S[i] = i+1\n",
    "    random.shuffle(S)\n",
    "    save_instance(\"densidad-baja\", F\"BAJA-{n}\", S, W)\n",
    "    filas_indice.append([\"densidad-baja\", F\"BAJA-{n}\", n, W, F\"instancias/densidad-baja/BAJA-{n}.txt\"])\n",
    "pd.DataFrame(filas_indice, columns=[\"dataset\", \"instancia\", \"n\", \"W\", \"archivo\"]).to_csv(\"instancias/densidad-baja/indice.csv\", index=False, header=True)"
   ]
  },
  {
   "cell_type": "markdown",
   "metadata": {},
   "source": [
    "# Dataset 5\n",
    "Instancias variando n y W con densidad baja."
   ]
  },
  {
   "cell_type": "code",
   "execution_count": 14,
   "metadata": {},
   "outputs": [],
   "source": [
    "filas_indice = []\n",
    "for n in range(1000, 8000, 500):\n",
    "    for W in range(1000, 8000, 500):\n",
    "        S = [1 for i in range(0, n)]\n",
    "        save_instance(\"dinamica\", F\"DP-{n}-{W}\", S, W)\n",
    "        filas_indice.append([\"dinamica\", F\"DP-{n}-{W}\", n, W, F\"instancias/dinamica/DP-{n}-{W}.txt\"])\n",
    "pd.DataFrame(filas_indice, columns=[\"dataset\", \"instancia\", \"n\", \"W\", \"archivo\"]).to_csv(\"instancias/dinamica/indice.csv\", index=False, header=True)"
   ]
  }
 ],
 "metadata": {
  "kernelspec": {
   "display_name": "Python 3",
   "language": "python",
   "name": "python3"
  },
  "language_info": {
   "codemirror_mode": {
    "name": "ipython",
    "version": 3
   },
   "file_extension": ".py",
   "mimetype": "text/x-python",
   "name": "python",
   "nbconvert_exporter": "python",
   "pygments_lexer": "ipython3",
   "version": "3.8.5"
  }
 },
 "nbformat": 4,
 "nbformat_minor": 4
}
