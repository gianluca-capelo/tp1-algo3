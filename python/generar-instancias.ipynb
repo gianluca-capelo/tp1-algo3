{
 "cells": [
  {
   "cell_type": "markdown",
   "metadata": {},
   "source": [
    "# Generador de instancias\n",
    "En este notebook está el código para generar los sets de instancias que se usan para experimentar.\n",
    "- Estas instancias van a ser guardadas en la carpeta __instancias__.\n",
    "- Cada set estará en su propia carpeta y tendrá un archivo _indice.csv_ que contendrá información sobre las instancias."
   ]
  },
  {
   "cell_type": "code",
   "execution_count": 2,
   "metadata": {},
   "outputs": [],
   "source": [
    "import random, math\n",
    "import pandas as pd"
   ]
  },
  {
   "cell_type": "code",
   "execution_count": 4,
   "metadata": {},
   "outputs": [],
   "source": [
    "def save_instance(dataset, instance_name, Pesos,Resistencias, R):\n",
    "    with open(F\"instancias/{dataset}/{instance_name}.txt\", \"w\") as f:\n",
    "          \n",
    "        print(len(Pesos), R, file=f)\n",
    "\n",
    "        for i in range(len(Pesos)-1): \n",
    "            print(Pesos[i], file=f, end=\" \")\n",
    "        print(Pesos[-1], file=f)\n",
    "        \n",
    "        for i in range(len(Resistencias)-1): \n",
    "            print(Resistencias[i], file=f, end=\" \")\n",
    "        #bug: print(Resistencias[-1], file=f,end=\"\")\n",
    "        print(Resistencias[-1], file=f)\n",
    "\n",
    "def save_index(dataset, instances):\n",
    "    with open(F\"instancias/{dataset}/instances.txt\", \"w\") as f:\n",
    "        for instance in instances: \n",
    "            print(instance, file=f)"
   ]
  },
  {
   "cell_type": "markdown",
   "metadata": {},
   "source": [
    "# Dataset Juan"
   ]
  },
  {
   "cell_type": "markdown",
   "metadata": {},
   "source": [
    "Muchas soluciones : \n",
    "\n",
    "\\\n",
    "    - tubo tambien sea resistente\n",
    "\\\n",
    "    - sean resistentes\n",
    "\\\n",
    "    - no sean tan pesados"
   ]
  },
  {
   "cell_type": "code",
   "execution_count": 47,
   "metadata": {},
   "outputs": [],
   "source": [
    "filas_indice = []\n",
    "R = 1000  \n",
    "\n",
    "for n in range(1,25):\n",
    "    \n",
    "    Pesos = [random.randrange(1,R*0.2,1) for i in range(0, n)]\n",
    "    Resistencias = [random.randrange(R*0.8,R, 10) for i in range(0,n)] \n",
    "    \n",
    "    save_instance(\"muchas-soluciones-validas\", F\"FB-MS-{n}\", Pesos,Resistencias, R)\n",
    "    filas_indice.append([\"muchas-soluciones-validas\", F\"FB-MS-{n}\", n, R, F\"instancias/muchas-soluciones-validas/FB-MS-{n}.txt\"])\n",
    "pd.DataFrame(filas_indice, columns=[\"dataset\", \"instancia\", \"n\", \"R\", \"archivo\"]).to_csv(\"instancias/muchas-soluciones-validas/indice.csv\", index=False, header=True)\n"
   ]
  },
  {
   "cell_type": "code",
   "execution_count": 48,
   "metadata": {},
   "outputs": [],
   "source": [
    "filas_indice = []\n",
    "R = 1000 \n",
    "\n",
    "for n in range(1, 25): \n",
    "   \n",
    "    Pesos = [random.randrange(R*0.4,R,1) for i in range(0, n)]\n",
    "    Resistencias = [random.randrange(R*0.8,R, 10) for i in range(0,n)] \n",
    "    \n",
    "    save_instance(\"pocas-soluciones-validas\", F\"FB-PS-{n}\", Pesos,Resistencias, R)\n",
    "    filas_indice.append([\"pocas-soluciones-validas\", F\"FB-PS-{n}\", n, R, F\"instancias/pocas-soluciones-validas/FB-PS-{n}.txt\"])\n",
    "pd.DataFrame(filas_indice, columns=[\"dataset\", \"instancia\", \"n\", \"R\", \"archivo\"]).to_csv(\"instancias/pocas-soluciones-validas/indice.csv\", index=False, header=True)"
   ]
  },
  {
   "cell_type": "markdown",
   "metadata": {},
   "source": [
    "## Otra posible opcion"
   ]
  },
  {
   "cell_type": "code",
   "execution_count": null,
   "metadata": {},
   "outputs": [],
   "source": [
    "#Muchas soluciones\n",
    "\n",
    "filas_indice = []\n",
    "\n",
    "\n",
    "for n in range(1,25):\n",
    "    \n",
    "    R = n*(n-1)/4  \n",
    "    Pesos = [i for i in range(0, n)]\n",
    "    random.shuffle(Pesos)\n",
    "    Resistencias = [random.randrange(R*0.8,R, 10) for i in range(0,n)] \n",
    "    \n",
    "    save_instance(\"muchas-soluciones-validas\", F\"FB-MS-{n}\", Pesos,Resistencias, R)\n",
    "    filas_indice.append([\"muchas-soluciones-validas\", F\"FB-MS-{n}\", n, R, F\"instancias/muchas-soluciones-validas/FB-MS-{n}.txt\"])\n",
    "pd.DataFrame(filas_indice, columns=[\"dataset\", \"instancia\", \"n\", \"R\", \"archivo\"]).to_csv(\"instancias/muchas-soluciones-validas/indice.csv\", index=False, header=True)\n"
   ]
  },
  {
   "cell_type": "code",
   "execution_count": null,
   "metadata": {},
   "outputs": [],
   "source": [
    "#Pocas Soluciones\n",
    "\n",
    "filas_indice = []\n",
    "\n",
    "for n in range(1, 25): \n",
    "  \n",
    "    R = n*(n-1)/8  \n",
    "    Pesos = [i for i in range(0, n)]\n",
    "    Resistencias = [random.randrange(R*0.8,R, 10) for i in range(0,n)] \n",
    "    \n",
    "    save_instance(\"pocas-soluciones-validas\", F\"FB-PS-{n}\", Pesos,Resistencias, R)\n",
    "    filas_indice.append([\"pocas-soluciones-validas\", F\"FB-PS-{n}\", n, R, F\"instancias/pocas-soluciones-validas/FB-PS-{n}.txt\"])\n",
    "pd.DataFrame(filas_indice, columns=[\"dataset\", \"instancia\", \"n\", \"R\", \"archivo\"]).to_csv(\"instancias/pocas-soluciones-validas/indice.csv\", index=False, header=True)"
   ]
  },
  {
   "cell_type": "markdown",
   "metadata": {},
   "source": [
    "## Dataset 1 - Todos rompen el jambotubo\n",
    "Instancias de mejor caso de backtracking poda factibilidad, están descriptas en el informe en más detalle. Los pesos de los productos de estas instancias son todos mayores a la resistencia del $jambotubo$.\n",
    "\\\n",
    "$ Pesos = \\{p_1,p_2,.., p_n\\}$ con $\\ p_i > R $\n"
   ]
  },
  {
   "cell_type": "code",
   "execution_count": 3,
   "metadata": {},
   "outputs": [],
   "source": [
    "filas_indice = []\n",
    "for i in range(1, 1001):\n",
    "    n = i * 10\n",
    "    R = 1000\n",
    "    Pesos = [R+1 for i in range(0, n)]\n",
    "    Resistencias = [random.randrange(1, 100, 1) for i in range(0,n)] # arbitrario\n",
    "    save_instance(\"mejor-caso-bt-f\", F\"BT-MC-F-{n}\", Pesos,Resistencias, R)\n",
    "    filas_indice.append([\"mejor-caso-bt-f\", F\"BT-MC-F-{n}\", n, R, F\"instancias/mejor-caso-bt-f/BT-MC-F-{n}.txt\"])\n",
    "pd.DataFrame(filas_indice, columns=[\"dataset\", \"instancia\", \"n\", \"R\", \"archivo\"]).to_csv(\"instancias/mejor-caso-bt-f/indice.csv\", index=False, header=True)"
   ]
  },
  {
   "cell_type": "markdown",
   "metadata": {},
   "source": [
    "# Dataset 5 - Programacion Dinamica\n",
    "\n",
    "Instancias variando n y W. Buscamos observar de que manera crece la complejidad en relacion a n y R , buscando confirma la cota teorica de $O(nR)$."
   ]
  },
  {
   "cell_type": "code",
   "execution_count": 3,
   "metadata": {},
   "outputs": [],
   "source": [
    "# random.seed(10)\n",
    "desde = 1000\n",
    "hasta = 8000\n",
    "filas_indice = []\n",
    "for n in range(desde, hasta, 500):\n",
    "    for R in range(desde, hasta, 500):\n",
    "        rfloor = max(1, math.floor(n * (n-1) / 4))\n",
    "        \n",
    "        Pesos = [random.randrange(1, n, 1) for i in range(n)]\n",
    "        random.shuffle(Pesos)\n",
    "        Resistencias = [random.randrange(rfloor, rfloor*2, 1) for i in range(n)]\n",
    "        \n",
    "        save_instance(\"dinamica\", F\"DP-{n}-{R}\", Pesos, Resistencias, R)\n",
    "        filas_indice.append([\"dinamica\", F\"DP-{n}-{R}\", n, R, F\"instancias/dinamica/DP-{n}-{R}.txt\"])\n",
    "\n",
    "pd.DataFrame(filas_indice, columns=[\"dataset\", \"instancia\", \"n\", \"R\", \"archivo\"]).to_csv(\"instancias/dinamica/indice.csv\", index=False, header=True)"
   ]
  },
  {
   "cell_type": "markdown",
   "metadata": {},
   "source": [
    "# Dataset 5 - Programacion Dinamica MARK 2\n"
   ]
  },
  {
   "cell_type": "code",
   "execution_count": 27,
   "metadata": {},
   "outputs": [],
   "source": [
    "#random.seed(10)\n",
    "desde = 1000\n",
    "hasta = 8000\n",
    "filas_indice = []\n",
    "for n in range(desde, hasta, 500):\n",
    "    for R in range(desde, hasta, 500):\n",
    "        \n",
    "        if (R > n):\n",
    "            Pesos = [random.randrange(math.floor(R/n), math.floor(4*R/n), 1) for i in range(n)]\n",
    "            random.shuffle(Pesos)\n",
    "            Resistencias = [random.randrange(math.floor(R/4), R*2, 1) for i in range(n)]\n",
    "            random.shuffle(Resistencias)\n",
    "        else:\n",
    "            Pesos = [random.randrange(1, 50, 1) for i in range(n)]\n",
    "            random.shuffle(Pesos)\n",
    "            Resistencias = [random.randrange(math.floor(R/4), R*2, 1) for i in range(n)]\n",
    "            random.shuffle(Resistencias)\n",
    "\n",
    "        save_instance(\"dinamicaM2\", F\"DP2-{n}-{R}\", Pesos, Resistencias, R)\n",
    "        filas_indice.append([\"dinamicaM2\", F\"DP2-{n}-{R}\", n, R, F\"instancias/dinamicaM2/DP2-{n}-{R}.txt\"])\n",
    "\n",
    "pd.DataFrame(filas_indice, columns=[\"dataset\", \"instancia\", \"n\", \"R\", \"archivo\"]).to_csv(\"instancias/dinamicaM2/indice.csv\", index=False, header=True)"
   ]
  },
  {
   "cell_type": "markdown",
   "metadata": {},
   "source": [
    "# Dataset 2 - Campana BackTracking"
   ]
  },
  {
   "cell_type": "code",
   "execution_count": 16,
   "metadata": {},
   "outputs": [],
   "source": [
    "n = 30\n",
    "desde = 1\n",
    "hasta = 500\n",
    "filas_indice = []\n",
    "\n",
    "Pesos = [i for i in range(0, n)]\n",
    "Resistencias = [random.randrange(math.floor(n*(n-1)/8), math.floor(n*(n-1)/2), 1) for i in range(n)]\n",
    "random.shuffle(Pesos)\n",
    "random.shuffle(Resistencias)\n",
    "\n",
    "for R in range(desde, hasta, 5):\n",
    "    save_instance(\"bt\", F\"BT-{n}-{R}\", Pesos,Resistencias, R)\n",
    "    filas_indice.append([\"bt\", F\"BT-{n}-{R}\", n, R, F\"instancias/bt/BT-{n}-{R}.txt\"])\n",
    "pd.DataFrame(filas_indice, columns=[\"dataset\", \"instancia\", \"n\", \"R\", \"archivo\"]).to_csv(\"instancias/bt/indice.csv\", index=False, header=True)"
   ]
  },
  {
   "cell_type": "markdown",
   "metadata": {},
   "source": [
    "# Dataset 3 - Campana BackTracking MARK 2"
   ]
  },
  {
   "cell_type": "code",
   "execution_count": 17,
   "metadata": {},
   "outputs": [],
   "source": [
    "n = 30\n",
    "desde = 1\n",
    "hasta = 500\n",
    "filas_indice = []\n",
    "\n",
    "\n",
    "for R in range(desde, hasta, 3):\n",
    "    if (R > n):\n",
    "        Pesos = [random.randrange(math.floor(R/n), math.floor(4*R/n), 1) for i in range(n)]\n",
    "        random.shuffle(Pesos)\n",
    "        Resistencias = [random.randrange(math.floor(R/4), R*2, 1) for i in range(n)]\n",
    "        random.shuffle(Resistencias)\n",
    "    else:\n",
    "        Pesos = [random.randrange(1, 10, 1) for i in range(n)]\n",
    "        random.shuffle(Pesos)\n",
    "        Resistencias = [random.randrange(math.floor(R/4), R*2, 1) for i in range(n)]\n",
    "        random.shuffle(Resistencias)\n",
    "    save_instance(\"btM2\", F\"BTM2-{n}-{R}\", Pesos,Resistencias, R)\n",
    "    filas_indice.append([\"btM2\", F\"BTM2-{n}-{R}\", n, R, F\"instancias/btM2/BTM2-{n}-{R}.txt\"])\n",
    "    \n",
    "pd.DataFrame(filas_indice, columns=[\"dataset\", \"instancia\", \"n\", \"R\", \"archivo\"]).to_csv(\"instancias/btM2/indice.csv\", index=False, header=True)"
   ]
  },
  {
   "cell_type": "markdown",
   "metadata": {},
   "source": [
    "# "
   ]
  },
  {
   "cell_type": "markdown",
   "metadata": {},
   "source": [
    "## Dataset 2\n",
    "Instancias de peor caso de backtracking, están descriptas en el informe en más detalle.\n",
    "```\n",
    "S = {1, ..., 1, 1} con W = n\n",
    "```"
   ]
  },
  {
   "cell_type": "code",
   "execution_count": 11,
   "metadata": {},
   "outputs": [],
   "source": [
    "filas_indice = []\n",
    "for n in range(1, 31):\n",
    "    W = n\n",
    "    S = [1 for i in range(0, n)]\n",
    "    save_instance(\"peor-caso-bt\", F\"BT-PC-{n}\", S, W)\n",
    "    filas_indice.append([\"peor-caso-bt\", F\"BT-PC-{n}\", n, W, F\"instancias/peor-caso-bt/BT-PC-{n}.txt\"])\n",
    "pd.DataFrame(filas_indice, columns=[\"dataset\", \"instancia\", \"n\", \"W\", \"archivo\"]).to_csv(\"instancias/peor-caso-bt/indice.csv\", index=False, header=True)"
   ]
  },
  {
   "cell_type": "markdown",
   "metadata": {},
   "source": [
    "## Dataset 3\n",
    "Instancias con densidad alta:\n",
    "```\n",
    "S = { 1, ..., n } con W = n/2\n",
    "```"
   ]
  },
  {
   "cell_type": "code",
   "execution_count": 12,
   "metadata": {},
   "outputs": [],
   "source": [
    "filas_indice = []\n",
    "for n in range(1, 201):\n",
    "    W = math.floor(n/2)\n",
    "    S = [0 for i in range(0, n)]\n",
    "    for i in range(0, n): S[i] = i+1\n",
    "    random.shuffle(S)\n",
    "    save_instance(\"densidad-alta\", F\"ALTA-{n}\", S, W)\n",
    "    filas_indice.append([\"densidad-alta\", F\"ALTA-{n}\", n, W, F\"instancias/densidad-alta/ALTA-{n}.txt\"])\n",
    "pd.DataFrame(filas_indice, columns=[\"dataset\", \"instancia\", \"n\", \"W\", \"archivo\"]).to_csv(\"instancias/densidad-alta/indice.csv\", index=False, header=True)"
   ]
  },
  {
   "cell_type": "markdown",
   "metadata": {},
   "source": [
    "## Dataset 4\n",
    "Instancias con densidad baja:\n",
    "```\n",
    "S = { 1, ..., n } con W = n/2  \n",
    "```"
   ]
  },
  {
   "cell_type": "code",
   "execution_count": 13,
   "metadata": {},
   "outputs": [],
   "source": [
    "filas_indice = []\n",
    "for n in range(1, 201):\n",
    "    W = max(1, math.floor(n * (n-1) / 4))\n",
    "    S = [0 for i in range(0, n)]\n",
    "    for i in range(0, n): S[i] = i+1\n",
    "    random.shuffle(S)\n",
    "    save_instance(\"densidad-baja\", F\"BAJA-{n}\", S, W)\n",
    "    filas_indice.append([\"densidad-baja\", F\"BAJA-{n}\", n, W, F\"instancias/densidad-baja/BAJA-{n}.txt\"])\n",
    "pd.DataFrame(filas_indice, columns=[\"dataset\", \"instancia\", \"n\", \"W\", \"archivo\"]).to_csv(\"instancias/densidad-baja/indice.csv\", index=False, header=True)"
   ]
  }
 ],
 "metadata": {
  "kernelspec": {
   "display_name": "Python 3",
   "language": "python",
   "name": "python3"
  },
  "language_info": {
   "codemirror_mode": {
    "name": "ipython",
    "version": 3
   },
   "file_extension": ".py",
   "mimetype": "text/x-python",
   "name": "python",
   "nbconvert_exporter": "python",
   "pygments_lexer": "ipython3",
   "version": "3.8.5"
  }
 },
 "nbformat": 4,
 "nbformat_minor": 4
}
